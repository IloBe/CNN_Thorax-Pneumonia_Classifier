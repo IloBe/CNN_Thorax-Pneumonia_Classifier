{
 "cells": [
  {
   "cell_type": "markdown",
   "metadata": {},
   "source": [
    "# Capstone Project - Machine Learning Nanodegree\n",
    "\n",
    "## Convolutional Neural Networks - Thorax-Pneumonia Classifier\n",
    "\n",
    "---\n",
    "\n",
    "### Introduction\n",
    "\n",
    "In this notebook, we are developing a deep learning classification algorithm. Specific models learn a mapping between input features and class labels. The coding shall accept any future (posterior-anterior, anterior-posterior orientations) X-ray chest image as input for estimation of having a pneumonia chest image or not. Regarding the underlying dataset, we are solving such binary classification question for .jpgeg compressed X-ray chest images mostly from children. This dataset used for analysis comes from [Kaggle](https://www.kaggle.com/paultimothymooney/chest-xray-pneumonia/version/2). Such kind of analysis result improves the medical diagnostic workflow. As a future improvement, the algorithm could be used for all human age categories and X-ray orientations including lateral chest images, but such images are not available by now.\n",
    "\n",
    "![Image Samples](images/lung_images_pair_small.PNG)\n",
    "\n",
    "\n",
    "For official companies the medical software development happened as part of a regulatory domain. So, let us assume, we would like to use the algorithm as a component of an official product. Then notified bodies would proof the algorithm and its concept regarding quality and regulatory aspects. From technical point of view, working with medical images the CNN concept is the state-of-the-art approach. On the other hand, for getting an official permission and its discussion, the comparison and benchmark of several network architectures and parameter changes together with explanations would help. So, let us do this now.\n",
    "\n",
    "\n",
    "For implementation on Windows OS, we use Python 3.6 with Keras and TensorFlow as backend. For plotting the network architecture the pydot library and Graphviz2.38 shall be installed and properly configured (see [readme]()).\n",
    "\n",
    "---\n",
    "\n",
    "### Navigation Content\n",
    "\n",
    "* [Step 0](#step0): Import Libraries and Reproducibility\n",
    "* [Step 1](#step1): Import Chest Dataset\n",
    "* [Step 2](#step2): Data Exploration\n",
    "* [Step 3](#step3): Data Pre-Processing\n",
    "* [Step 4](#step4): Create a CNN Model from the Scratch (Basic Model)\n",
    "* [Step 5](#step5): Last Basic Model with Augmentation\n",
    "* [Step 6](#step6): Such Basic Model with Adam as Optimiser\n",
    "* [Step 7](#step7): Last Basic Model with Adam and Augmentation\n",
    "* [Step 8](#step8): Create an improved CNN Model with Adam\n",
    "* [Step 9](#step9): Last improved CNN Model with Augmentation\n",
    "* [Step 10](#step10): Create a Batch CNN Model from the Scratch\n",
    "* [Step 11](#step11): Create a CNN Model with Transfer Learning\n",
    "* [Step 12](#step12): Benchmark and Conclusion\n",
    "\n",
    "\n",
    "---\n",
    "<a id='step0'></a>\n",
    "## Step 0: Import Libraries and Reproducibility\n",
    "\n",
    "### Import Libraries\n",
    "Import libraries needed to implement the algorithm for this Chest image classifier. Finally, set random seed to make the results reproducible. Note: Message pops up that TensorFlow backend is used."
   ]
  },
  {
   "cell_type": "code",
   "execution_count": 1,
   "metadata": {},
   "outputs": [
    {
     "name": "stderr",
     "output_type": "stream",
     "text": [
      "Using TensorFlow backend.\n"
     ]
    }
   ],
   "source": [
    "from sklearn.datasets import load_files \n",
    "from sklearn import metrics\n",
    "from glob import glob\n",
    "from tqdm import tqdm\n",
    "from PIL import ImageFile\n",
    "\n",
    "from keras.utils import np_utils, plot_model\n",
    "from keras.preprocessing.image import load_img, img_to_array, ImageDataGenerator\n",
    "from keras.applications.resnet50 import preprocess_input, decode_predictions\n",
    "from keras.applications.inception_v3 import InceptionV3\n",
    "from keras import backend as K\n",
    "\n",
    "from models.Model import Model\n",
    "\n",
    "import seaborn as sns\n",
    "sns.set_style('darkgrid')\n",
    "\n",
    "import matplotlib.patches as mpatches\n",
    "import matplotlib.pyplot as plt                        \n",
    "%matplotlib inline \n",
    "\n",
    "import pandas as pd\n",
    "import numpy as np\n",
    "import random as rn\n",
    "import tensorflow as tf\n",
    "import pydot\n",
    "\n",
    "import os\n",
    "os.environ[\"PATH\"] += os.pathsep + 'C:/Program Files (x86)/Graphviz2.38/bin/'"
   ]
  },
  {
   "cell_type": "markdown",
   "metadata": {},
   "source": [
    "### Make the Code Reproducible \n",
    "\n",
    "According Keras documentation this additional coding is necessary to make the results reproducible."
   ]
  },
  {
   "cell_type": "code",
   "execution_count": 2,
   "metadata": {},
   "outputs": [],
   "source": [
    "# The below is necessary for starting Numpy generated random numbers\n",
    "# in a well-defined initial state.\n",
    "np.random.seed(42)\n",
    "\n",
    "# The below is necessary for starting core Python generated random numbers\n",
    "# in a well-defined state.\n",
    "rn.seed(1042)\n",
    "\n",
    "# Force TensorFlow to use single thread.\n",
    "# Multiple threads are a potential source of non-reproducible results.\n",
    "# For further details, see: https://stackoverflow.com/questions/42022950/\n",
    "session_conf = tf.ConfigProto(intra_op_parallelism_threads=1,\n",
    "                              inter_op_parallelism_threads=1)\n",
    "\n",
    "# The below tf.set_random_seed() will make random number generation\n",
    "# in the TensorFlow backend have a well-defined initial state.\n",
    "# For further details, see:\n",
    "# https://www.tensorflow.org/api_docs/python/tf/set_random_seed\n",
    "tf.set_random_seed(1234)\n",
    "\n",
    "sess = tf.Session(graph=tf.get_default_graph(), config=session_conf)\n",
    "K.set_session(sess)"
   ]
  },
  {
   "cell_type": "markdown",
   "metadata": {},
   "source": [
    "<a id='step1'></a>\n",
    "## Step 1: Import Chest Dataset\n",
    "\n",
    "In the code cell below, we import a dataset of chest images.  We populate a few variables through the use of the `load_files` function from the scikit-learn library:\n",
    "- `train_files`, `valid_files`, `test_files` - numpy arrays containing file paths to images\n",
    "- `train_targets`, `valid_targets`, `test_targets` - numpy arrays containing onehot-encoded classification labels \n",
    "- `chest_names` - list of string-valued chest names (NORMAL, PNEUMONIA) for translating labels"
   ]
  },
  {
   "cell_type": "code",
   "execution_count": 3,
   "metadata": {},
   "outputs": [],
   "source": [
    "# define function to load train, test, and validation datasets\n",
    "def load_dataset(path):\n",
    "    data = load_files(path)\n",
    "    chest_files = np.array(data['filenames'])\n",
    "    chest_targets = np_utils.to_categorical(np.array(data['target']), 2)\n",
    "    return chest_files, chest_targets\n",
    "\n",
    "# load train, test, and validation datasets\n",
    "train_files, train_targets = load_dataset('data/chest_xray/train')\n",
    "valid_files, valid_targets = load_dataset('data/chest_xray/val')\n",
    "test_files, test_targets = load_dataset('data/chest_xray/test')\n",
    "\n",
    "# load list of chest names (NORMAL, PNEUMONIA)\n",
    "chest_names = [item[20:-1] for item in sorted(glob(\"data/chest_xray/train/*/\"))]"
   ]
  },
  {
   "cell_type": "markdown",
   "metadata": {},
   "source": [
    "<a id='step2'></a>\n",
    "## Step 2: Data Exploration\n",
    "\n",
    "Some statistical information about the dataset of chest images. "
   ]
  },
  {
   "cell_type": "code",
   "execution_count": 4,
   "metadata": {},
   "outputs": [
    {
     "name": "stdout",
     "output_type": "stream",
     "text": [
      "There are 2 total chest categories.\n",
      "There are 5856 total chest images.\n",
      "\n",
      "There are 4672 training chest images.\n",
      "There are 32 validation chest images.\n",
      "There are 1152 test chest images.\n"
     ]
    }
   ],
   "source": [
    "# print statistics about the dataset\n",
    "# print('There are {} total chest categories, called: {}, {}.'.format(len(chest_names),chest_names[0],chest_names[1]))\n",
    "print('There are %d total chest categories.' % len(chest_names))  # there are only 2\n",
    "print('There are %s total chest images.\\n' % len(np.hstack([train_files, valid_files, test_files])))\n",
    "print('There are %d training chest images.' % len(train_files))\n",
    "print('There are %d validation chest images.' % len(valid_files))\n",
    "print('There are %d test chest images.'% len(test_files))"
   ]
  },
  {
   "cell_type": "markdown",
   "metadata": {},
   "source": [
    "**Note:**<br>\n",
    "According the original dataset 89.07% are training images and only 10.66% are test images. This doesn't fit to the rule-of-thumb to use a training/testing separation of 70/30 or 80/20 percent. Therefore, this distribution has been changed to the 80/20 ratio. Regarding the second separation of being normal or pneumonia ones (resp. root cause virus or bacteria), the same distribution ratio as before has been choosen. The images moved to the other directories have been selected randomly.\n",
    "\n",
    "80% training images = 4684.8  => 4685  => division by 32: 146 x 32 = 4672; therefore in the new training set 4672 images are available<br>\n",
    "20% test images = 1171.2,  but some are moved to the validation set now. In the original dataset no virus chest images are included to the validation set. Now there are some and some more bacteria chest images.\n",
    "\n",
    "\n",
    "How are the categories labelled? Regarding the images, for the different training, testing and validation pneumonia data samples, the images are labelled with 'virus' and 'bacteria' as root cause. This information is part of the image name text string. How many are there from each root cause category? The categories are ..."
   ]
  },
  {
   "cell_type": "code",
   "execution_count": 5,
   "metadata": {},
   "outputs": [
    {
     "data": {
      "text/plain": [
       "['n\\\\NORMAL', 'n\\\\PNEUMONIA']"
      ]
     },
     "execution_count": 5,
     "metadata": {},
     "output_type": "execute_result"
    }
   ],
   "source": [
    "# What kind of chest categories exist?\n",
    "chest_names"
   ]
  },
  {
   "cell_type": "markdown",
   "metadata": {},
   "source": [
    "What is the structure of the files from the different directories, means how many images from each category are available in the train, validation and test directories?"
   ]
  },
  {
   "cell_type": "code",
   "execution_count": 6,
   "metadata": {},
   "outputs": [
    {
     "name": "stdout",
     "output_type": "stream",
     "text": [
      "--- Train files ---\n",
      "1144 normal chest images.\n",
      "3528 pneumonia chest images.\n",
      "\n",
      "--- Validation files ---\n",
      "16 normal chest images.\n",
      "16 pneumonia chest images.\n",
      "\n",
      "--- Test files ---\n",
      "423 normal chest images.\n",
      "729 pneumonia chest images.\n"
     ]
    }
   ],
   "source": [
    "def get_category_counter(file):\n",
    "    ''' delivers the amount of normal or pneumonia images '''\n",
    "    counter_normal = 0\n",
    "    counter_pneumonia = 0\n",
    "    file_array = file\n",
    "    pneumonia_files = []\n",
    "        \n",
    "    for item in file_array[:]:\n",
    "        if 'NORMAL' in item:\n",
    "            counter_normal += 1\n",
    "        else: # PNEUMONIA case\n",
    "            # add item to array and increase counter\n",
    "            pneumonia_files.append(item)\n",
    "            counter_pneumonia += 1\n",
    "               \n",
    "    return counter_normal, counter_pneumonia, pneumonia_files\n",
    "\n",
    "count_train_normal, count_train_pneumonia, train_pneumonia_files = get_category_counter(train_files)\n",
    "count_valid_normal, count_valid_pneumonia, valid_pneumonia_files = get_category_counter(valid_files)\n",
    "count_test_normal, count_test_pneumonia, test_pneumonia_files = get_category_counter(test_files)\n",
    "\n",
    "print(\"--- Train files ---\")        \n",
    "print(\"{} normal chest images.\".format(count_train_normal))\n",
    "print(\"{} pneumonia chest images.\".format(count_train_pneumonia))\n",
    "\n",
    "print(\"\\n--- Validation files ---\")        \n",
    "print(\"{} normal chest images.\".format(count_valid_normal))\n",
    "print(\"{} pneumonia chest images.\".format(count_valid_pneumonia))\n",
    "\n",
    "print(\"\\n--- Test files ---\")        \n",
    "print(\"{} normal chest images.\".format(count_test_normal))\n",
    "print(\"{} pneumonia chest images.\".format(count_test_pneumonia))"
   ]
  },
  {
   "cell_type": "markdown",
   "metadata": {},
   "source": [
    "This is much clearer if visualised in bar charts."
   ]
  },
  {
   "cell_type": "code",
   "execution_count": 7,
   "metadata": {},
   "outputs": [
    {
     "data": {
      "text/plain": [
       "<matplotlib.legend.Legend at 0xa905007f0>"
      ]
     },
     "execution_count": 7,
     "metadata": {},
     "output_type": "execute_result"
    },
    {
     "data": {
      "image/png": "[encoded data removed]",
      "text/plain": [
       "<Figure size 432x288 with 1 Axes>"
      ]
     },
     "metadata": {
      "needs_background": "light"
     },
     "output_type": "display_data"
    }
   ],
   "source": [
    "# Visualise all the findings\n",
    "locations = [0, 1, 2, 3, 4, 5]\n",
    "colors = ['darkgreen', 'darkblue', 'darkgreen', 'darkblue', 'darkgreen', 'darkblue']\n",
    "hights = [count_train_normal, count_train_pneumonia, count_valid_normal, count_valid_pneumonia,\n",
    "         count_test_normal, count_test_pneumonia]\n",
    "width = 0.65\n",
    "label_list = ['Train Normal', 'Train Pneumonia', 'Validation Normal', 'Validation Pneumonia',\n",
    "              'Test Normal', 'Test Pneumonia']\n",
    "fig = plt.figure()\n",
    "ax = fig.add_subplot(1,1,1)\n",
    "\n",
    "plt.yticks(np.arange(0, 4000, 250))\n",
    "labels = ax.set_xticklabels(label_list, rotation=70, fontsize='small')\n",
    "plt.bar(locations, hights, width, color=colors, tick_label=labels, alpha=0.8)\n",
    "plt.ylim([0, 4000])\n",
    "plt.title('Absolute Chest Images by Categories', fontsize=15)\n",
    "plt.xlabel('Categories separated by sample directories', fontsize=13)\n",
    "green_patch = mpatches.Patch(color='darkgreen', label='NORMAL', alpha=0.8)\n",
    "blue_patch = mpatches.Patch(color='darkblue', label='PNEUMONIA', alpha=0.8)\n",
    "plt.legend(handles = [green_patch, blue_patch])"
   ]
  },
  {
   "cell_type": "code",
   "execution_count": 8,
   "metadata": {},
   "outputs": [],
   "source": [
    "# For simpler usage, first we have to put the data in a dictionary.\n",
    "# {'train' : {'Normal' : count_train_normal,\n",
    "#             'Pneumonia' : count_train_pneumonia},\n",
    "#  'valid' : {'Normal' : count_valid_normal,\n",
    "#             'Pneumonia' : count_valid_pneumonia}, \n",
    "#  'test' : {'Normal' : count_test_normal, \n",
    "#            'Pneumonia' : count_test_pneumonia}}\n",
    "\n",
    "categories_counter_data = {\"Sample\" : [\"train\", \"valid\", \"test\"],\n",
    "                           \"Normal\" : [count_train_normal, count_valid_normal, count_test_normal],\n",
    "                           \"Pneumonia\" : [count_train_pneumonia, count_valid_pneumonia, count_test_pneumonia]}\n",
    "\n",
    "df_categories = pd.DataFrame(data = categories_counter_data, index = [\"train\", \"valid\", \"test\"])"
   ]
  },
  {
   "cell_type": "code",
   "execution_count": 9,
   "metadata": {},
   "outputs": [],
   "source": [
    "# Add the amount difference for each category and directory to the dataframe\n",
    "df_categories['Difference'] = df_categories['Normal'] - df_categories['Pneumonia']"
   ]
  },
  {
   "cell_type": "code",
   "execution_count": 10,
   "metadata": {},
   "outputs": [
    {
     "data": {
      "text/html": [
       "<div>\n",
       "<style scoped>\n",
       "    .dataframe tbody tr th:only-of-type {\n",
       "        vertical-align: middle;\n",
       "    }\n",
       "\n",
       "    .dataframe tbody tr th {\n",
       "        vertical-align: top;\n",
       "    }\n",
       "\n",
       "    .dataframe thead th {\n",
       "        text-align: right;\n",
       "    }\n",
       "</style>\n",
       "<table border=\"1\" class=\"dataframe\">\n",
       "  <thead>\n",
       "    <tr style=\"text-align: right;\">\n",
       "      <th></th>\n",
       "      <th>Sample</th>\n",
       "      <th>Normal</th>\n",
       "      <th>Pneumonia</th>\n",
       "      <th>Difference</th>\n",
       "      <th>Difference_abs</th>\n",
       "    </tr>\n",
       "  </thead>\n",
       "  <tbody>\n",
       "    <tr>\n",
       "      <th>train</th>\n",
       "      <td>train</td>\n",
       "      <td>1144</td>\n",
       "      <td>3528</td>\n",
       "      <td>-2384</td>\n",
       "      <td>2384</td>\n",
       "    </tr>\n",
       "    <tr>\n",
       "      <th>valid</th>\n",
       "      <td>valid</td>\n",
       "      <td>16</td>\n",
       "      <td>16</td>\n",
       "      <td>0</td>\n",
       "      <td>0</td>\n",
       "    </tr>\n",
       "    <tr>\n",
       "      <th>test</th>\n",
       "      <td>test</td>\n",
       "      <td>423</td>\n",
       "      <td>729</td>\n",
       "      <td>-306</td>\n",
       "      <td>306</td>\n",
       "    </tr>\n",
       "  </tbody>\n",
       "</table>\n",
       "</div>"
      ],
      "text/plain": [
       "      Sample  Normal  Pneumonia  Difference  Difference_abs\n",
       "train  train    1144       3528       -2384            2384\n",
       "valid  valid      16         16           0               0\n",
       "test    test     423        729        -306             306"
      ]
     },
     "execution_count": 10,
     "metadata": {},
     "output_type": "execute_result"
    }
   ],
   "source": [
    "# Visualise the differences compared to category and sample directories,\n",
    "# therefore use the absolute values of the differences as well to see them on the same positive level\n",
    "df_categories['Difference_abs'] = df_categories['Difference'] * (-1)\n",
    "df_categories.head()"
   ]
  },
  {
   "cell_type": "markdown",
   "metadata": {},
   "source": [
    "Now, the relationship of the amount difference between the normal and pneumonia samples are visualised. Again the validation sets are so small, that they are not realisable in such a bar diagram."
   ]
  },
  {
   "cell_type": "code",
   "execution_count": 11,
   "metadata": {},
   "outputs": [
    {
     "data": {
      "text/plain": [
       "<matplotlib.axes._subplots.AxesSubplot at 0xa905eabe0>"
      ]
     },
     "execution_count": 11,
     "metadata": {},
     "output_type": "execute_result"
    },
    {
     "data": {
      "image/png": "[encoded data removed]",
      "text/plain": [
       "<Figure size 432x288 with 1 Axes>"
      ]
     },
     "metadata": {
      "needs_background": "light"
     },
     "output_type": "display_data"
    }
   ],
   "source": [
    "#locations = [0, 1, 2}\n",
    "x_labels = ['Train', 'Valid', 'Test']\n",
    "#fig = plt.figure()\n",
    "#ax = fig.add_subplot(1,1,1)\n",
    "#labels = ax.set_xticklabels(x_labels, rotation=70, fontsize='small')\n",
    "#plt.bar(locations, tick_label=labels, alpha=0.8) # hights, color=colors, width,\n",
    "#plt.title('Category Differences Compared to Sample Directories', fontsize=15)\n",
    "\n",
    "df_categories.plot(title='Category Differences Compared to Sample Directories', kind='bar', tick_label=x_labels, alpha=0.9)"
   ]
  },
  {
   "cell_type": "markdown",
   "metadata": {},
   "source": [
    "The training set (x label: train) has much moch pneumonia cases campare to the normal ones, this is not the case for the testing samples (x label: test) of normal and pneumonia chest images. They look much more balanced. The validation samples (x label: valid) are very small and the same for the normal and pneumonia set (only 8 each). So, this columns are empty in the diagrams.\n",
    "\n",
    "**Additional question** regarding the different sample directories: How many of the pneumonia chest images have virus or bacteria as _root cause_?"
   ]
  },
  {
   "cell_type": "code",
   "execution_count": 12,
   "metadata": {},
   "outputs": [
    {
     "name": "stdout",
     "output_type": "stream",
     "text": [
      "--- Train pneumonia files ---\n",
      "1235 virus chest images.\n",
      "2293 bacteria chest images.\n",
      "\n",
      "--- Validation pneumonia files ---\n",
      "5 virus chest images.\n",
      "11 bacteria chest images.\n",
      "\n",
      "--- Test pneumonia files ---\n",
      "253 virus chest images.\n",
      "476 bacteria chest images.\n"
     ]
    }
   ],
   "source": [
    "def get_rootcause_counter(files):\n",
    "    ''' delivers the amount of bacteria or virus pneumonia images '''\n",
    "    counter_virus = 0\n",
    "    counter_bacteria = 0\n",
    "    file_array = files\n",
    "    \n",
    "    \n",
    "    for item in file_array:\n",
    "        if 'virus' in item:\n",
    "            counter_virus += 1\n",
    "        elif 'bacteria' in item:\n",
    "            counter_bacteria += 1\n",
    "        else:\n",
    "            print('{} does not include a root cause in its file name string (virus or bac.')\n",
    "            \n",
    "    return counter_virus, counter_bacteria\n",
    "\n",
    "count_train_virus, count_train_bacteria = get_rootcause_counter(train_pneumonia_files)\n",
    "count_valid_virus, count_valid_bacteria = get_rootcause_counter(valid_pneumonia_files)\n",
    "count_test_virus, count_test_bacteria = get_rootcause_counter(test_pneumonia_files)\n",
    "\n",
    "print(\"--- Train pneumonia files ---\")        \n",
    "print(\"{} virus chest images.\".format(count_train_virus))\n",
    "print(\"{} bacteria chest images.\".format(count_train_bacteria))\n",
    "\n",
    "print(\"\\n--- Validation pneumonia files ---\")        \n",
    "print(\"{} virus chest images.\".format(count_valid_virus))\n",
    "print(\"{} bacteria chest images.\".format(count_valid_bacteria))\n",
    "\n",
    "print(\"\\n--- Test pneumonia files ---\")        \n",
    "print(\"{} virus chest images.\".format(count_test_virus))\n",
    "print(\"{} bacteria chest images.\".format(count_test_bacteria))"
   ]
  },
  {
   "cell_type": "markdown",
   "metadata": {},
   "source": [
    "**Note:**<br>\n",
    "In the future, having more pneumonia chest images with further root causes (not only virus and bacteria root causes exist), the algorithm can be improved doing a multi-class classification between normal and pneumonia ones, where the pneumonia ones are differentiated by their root cause from the scratch."
   ]
  },
  {
   "cell_type": "markdown",
   "metadata": {},
   "source": [
    "<a id='step3'></a>\n",
    "## Step 3: Data Pre-Processing\n",
    "\n",
    "Keras is using TensorFlow as backend, means as tensor manipulation. According the TensorFlow [guide](https://www.tensorflow.org/guide/tensors), a \"tensor is a generalization of vectors and matrices to potentially higher dimensions. Internally, TensorFlow represents tensors as n-dimensional arrays of base datatypes.\" \n",
    "\n",
    "Keras CNNs require a 4D array (which we'll also refer to as a 4D tensor) as input with shape\n",
    "\n",
    "$$\n",
    "(\\text{nb_samples}, \\text{rows}, \\text{columns}, \\text{channels}),\n",
    "$$\n",
    "\n",
    "where `nb_samples` corresponds to the total number of images (or samples), and `rows`, `columns`, and `channels` correspond to the number of rows, columns, and channels for each image, respectively.  \n",
    "\n",
    "\n",
    "The `path_to_tensor` function below takes a string-valued file path to a grey-scale chest image as input and returns a 4D tensor suitable for supplying to a Keras CNN.  The function first loads the image and resizes it to a square image that is $224 \\times 224$ pixels.  Next, the image is converted to an array, which is then resized to a 4D tensor.  In this case, since we are working with grey-scale images, each image has one [channel](https://www.tensorflow.org/api_docs/python/tf/summary/image).  Likewise, since we are processing a single image (or sample), the returned tensor will always have shape\n",
    "\n",
    "$$\n",
    "(1, 224, 224, 1).\n",
    "$$\n",
    "\n",
    "The `paths_to_tensor` function takes a numpy array of string-valued image paths as input and returns a 4D tensor with shape \n",
    "\n",
    "$$\n",
    "(\\text{nb_samples}, 224, 224, 1).\n",
    "$$\n",
    "\n",
    "Here, `nb_samples` is the number of samples, or number of images, in the supplied array of image paths.  It is best to think of `nb_samples` as the number of 3D tensors (where each 3D tensor corresponds to a different image) in the dataset."
   ]
  },
  {
   "cell_type": "code",
   "execution_count": 5,
   "metadata": {},
   "outputs": [],
   "source": [
    "def path_to_tensor(img_path):\n",
    "    # loads grey-scale image as PIL.Image.Image type\n",
    "    img = load_img(img_path, target_size=(224, 224))\n",
    "    # convert PIL.Image.Image type to 3D tensor with shape (224, 224, 1)\n",
    "    x = img_to_array(img)\n",
    "    # convert 3D tensor to 4D tensor with shape (1, 224, 224, 1) and return 4D tensor\n",
    "    return np.expand_dims(x, axis=0)\n",
    "\n",
    "def paths_to_tensor(img_paths):\n",
    "    list_of_tensors = [path_to_tensor(img_path) for img_path in tqdm(img_paths)]\n",
    "    return np.vstack(list_of_tensors)"
   ]
  },
  {
   "cell_type": "markdown",
   "metadata": {},
   "source": [
    "We rescale the images by dividing every pixel in every image by 255."
   ]
  },
  {
   "cell_type": "code",
   "execution_count": 6,
   "metadata": {},
   "outputs": [
    {
     "name": "stderr",
     "output_type": "stream",
     "text": [
      "100%|██████████████████████████████████████| 4672/4672 [05:13<00:00,  8.51it/s]\n",
      "100%|██████████████████████████████████████████| 32/32 [00:25<00:00,  3.25it/s]\n",
      "100%|██████████████████████████████████████| 1152/1152 [02:24<00:00,  7.95it/s]\n"
     ]
    }
   ],
   "source": [
    "ImageFile.LOAD_TRUNCATED_IMAGES = True                 \n",
    "\n",
    "# pre-process the data for Keras\n",
    "train_tensors = paths_to_tensor(train_files).astype('float32')/255\n",
    "valid_tensors = paths_to_tensor(valid_files).astype('float32')/255\n",
    "test_tensors = paths_to_tensor(test_files).astype('float32')/255"
   ]
  },
  {
   "cell_type": "markdown",
   "metadata": {},
   "source": [
    "<a id='step4'></a>\n",
    "## Step 4: Create a CNN Model from the Scratch (Basic Model)\n",
    "\n",
    "### Model Implementation\n",
    "\n",
    "Start creating a basic model with 5 blocks of Convolutional, MaxPooling and Dropout sublayers as hidden layer components. As flatten layer GlobalAveragePooling2D is used. The output Dense layer for the 2 resulting categories NORMAL and PNEUMONIA is using 'softmax' as activation function."
   ]
  },
  {
   "cell_type": "code",
   "execution_count": 7,
   "metadata": {},
   "outputs": [
    {
     "name": "stdout",
     "output_type": "stream",
     "text": [
      "WARNING:tensorflow:From C:\\anaconda\\anaconda3\\lib\\site-packages\\tensorflow\\python\\framework\\op_def_library.py:263: colocate_with (from tensorflow.python.framework.ops) is deprecated and will be removed in a future version.\n",
      "Instructions for updating:\n",
      "Colocations handled automatically by placer.\n",
      "WARNING:tensorflow:From C:\\anaconda\\anaconda3\\lib\\site-packages\\keras\\backend\\tensorflow_backend.py:3445: calling dropout (from tensorflow.python.ops.nn_ops) with keep_prob is deprecated and will be removed in a future version.\n",
      "Instructions for updating:\n",
      "Please use `rate` instead of `keep_prob`. Rate should be set to `rate = 1 - keep_prob`.\n",
      "\n",
      "--- Build model summary of Basic_CNN_Model: ---\n",
      "_________________________________________________________________\n",
      "Layer (type)                 Output Shape              Param #   \n",
      "=================================================================\n",
      "conv2d_1 (Conv2D)            (None, 224, 224, 16)      208       \n",
      "_________________________________________________________________\n",
      "max_pooling2d_1 (MaxPooling2 (None, 112, 112, 16)      0         \n",
      "_________________________________________________________________\n",
      "dropout_1 (Dropout)          (None, 112, 112, 16)      0         \n",
      "_________________________________________________________________\n",
      "conv2d_2 (Conv2D)            (None, 112, 112, 32)      2080      \n",
      "_________________________________________________________________\n",
      "max_pooling2d_2 (MaxPooling2 (None, 56, 56, 32)        0         \n",
      "_________________________________________________________________\n",
      "dropout_2 (Dropout)          (None, 56, 56, 32)        0         \n",
      "_________________________________________________________________\n",
      "conv2d_3 (Conv2D)            (None, 56, 56, 64)        8256      \n",
      "_________________________________________________________________\n",
      "max_pooling2d_3 (MaxPooling2 (None, 28, 28, 64)        0         \n",
      "_________________________________________________________________\n",
      "dropout_3 (Dropout)          (None, 28, 28, 64)        0         \n",
      "_________________________________________________________________\n",
      "conv2d_4 (Conv2D)            (None, 28, 28, 128)       32896     \n",
      "_________________________________________________________________\n",
      "max_pooling2d_4 (MaxPooling2 (None, 14, 14, 128)       0         \n",
      "_________________________________________________________________\n",
      "dropout_4 (Dropout)          (None, 14, 14, 128)       0         \n",
      "_________________________________________________________________\n",
      "conv2d_5 (Conv2D)            (None, 14, 14, 256)       131328    \n",
      "_________________________________________________________________\n",
      "max_pooling2d_5 (MaxPooling2 (None, 7, 7, 256)         0         \n",
      "_________________________________________________________________\n",
      "dropout_5 (Dropout)          (None, 7, 7, 256)         0         \n",
      "_________________________________________________________________\n",
      "global_average_pooling2d_1 ( (None, 256)               0         \n",
      "_________________________________________________________________\n",
      "dense_1 (Dense)              (None, 2)                 514       \n",
      "=================================================================\n",
      "Total params: 175,282\n",
      "Trainable params: 175,282\n",
      "Non-trainable params: 0\n",
      "_________________________________________________________________\n"
     ]
    }
   ],
   "source": [
    "# Define the base model architecture.\n",
    "\n",
    "# Start with the basic model\n",
    "base_model_class = Model(\"Basic\", \"Basic_CNN_Model\", \"accuracy\")\n",
    "base_model = base_model_class.get_model()"
   ]
  },
  {
   "cell_type": "markdown",
   "metadata": {},
   "source": [
    "### Compile the Model\n",
    "\n",
    "As optimiser 'rmsprop' with loss function 'binary_crossentropy' and 'accuracy' metric is used. The weights of the model layers will be updated during training."
   ]
  },
  {
   "cell_type": "code",
   "execution_count": 8,
   "metadata": {},
   "outputs": [
    {
     "data": {
      "text/plain": [
       "<models.Basic_CNN_Model.Basic_CNN_Model at 0xbf810a2ba8>"
      ]
     },
     "execution_count": 8,
     "metadata": {},
     "output_type": "execute_result"
    }
   ],
   "source": [
    "base_model_class = base_model_class.get_class()\n",
    "# Is it the expected class?\n",
    "base_model_class"
   ]
  },
  {
   "cell_type": "code",
   "execution_count": 9,
   "metadata": {},
   "outputs": [],
   "source": [
    "base_model_class.compile_model(model=base_model, optimizer='rmsprop',\n",
    "                               loss='binary_crossentropy', metrics=['accuracy'])"
   ]
  },
  {
   "cell_type": "markdown",
   "metadata": {},
   "source": [
    "### Train the Model\n",
    "\n",
    "Model training with use of checkpointing to save the model that attains the best validation loss. The following hyperparameters are set: \n",
    "- `epochs` is set to a number of iterations including the point where the network stops learning or start overfitting (20)\n",
    "- `batch_size` is set to a common minimal size of memory: 32; if your machine is better use 64, 128, 256, ... \n",
    "\n",
    "For the original dataset: train on 5216 samples, therefore batch_size=32 => 5216/32 = 163<br>\n",
    "For the modified dataset: train on 146 x 32 = 4672 samples  (same batch size of 32)"
   ]
  },
  {
   "cell_type": "code",
   "execution_count": 22,
   "metadata": {},
   "outputs": [
    {
     "name": "stdout",
     "output_type": "stream",
     "text": [
      "WARNING:tensorflow:From C:\\anaconda\\anaconda3\\lib\\site-packages\\tensorflow\\python\\ops\\math_ops.py:3066: to_int32 (from tensorflow.python.ops.math_ops) is deprecated and will be removed in a future version.\n",
      "Instructions for updating:\n",
      "Use tf.cast instead.\n",
      "Train on 4672 samples, validate on 32 samples\n",
      "Epoch 1/20\n",
      " - 814s - loss: 0.5129 - acc: 0.7663 - val_loss: 1.0708 - val_acc: 0.5000\n",
      "\n",
      "Epoch 00001: val_loss improved from inf to 1.07083, saving model to ./saved_models/base_model_weights.best.from_scratch.hdf5\n",
      "Epoch 2/20\n",
      " - 720s - loss: 0.3656 - acc: 0.8142 - val_loss: 1.1090 - val_acc: 0.5938\n",
      "\n",
      "Epoch 00002: val_loss did not improve from 1.07083\n",
      "Epoch 3/20\n",
      " - 798s - loss: 0.3435 - acc: 0.8307 - val_loss: 0.9913 - val_acc: 0.6562\n",
      "\n",
      "Epoch 00003: val_loss improved from 1.07083 to 0.99129, saving model to ./saved_models/base_model_weights.best.from_scratch.hdf5\n",
      "Epoch 4/20\n",
      " - 797s - loss: 0.3291 - acc: 0.8487 - val_loss: 0.8974 - val_acc: 0.6875\n",
      "\n",
      "Epoch 00004: val_loss improved from 0.99129 to 0.89743, saving model to ./saved_models/base_model_weights.best.from_scratch.hdf5\n",
      "Epoch 5/20\n",
      " - 797s - loss: 0.3134 - acc: 0.8632 - val_loss: 1.1896 - val_acc: 0.6562\n",
      "\n",
      "Epoch 00005: val_loss did not improve from 0.89743\n",
      "Epoch 6/20\n",
      " - 800s - loss: 0.2945 - acc: 0.8724 - val_loss: 0.4573 - val_acc: 0.7188\n",
      "\n",
      "Epoch 00006: val_loss improved from 0.89743 to 0.45730, saving model to ./saved_models/base_model_weights.best.from_scratch.hdf5\n",
      "Epoch 7/20\n",
      " - 836s - loss: 0.2991 - acc: 0.8667 - val_loss: 0.7277 - val_acc: 0.7500\n",
      "\n",
      "Epoch 00007: val_loss did not improve from 0.45730\n",
      "Epoch 8/20\n",
      " - 861s - loss: 0.2958 - acc: 0.8739 - val_loss: 0.7695 - val_acc: 0.7500\n",
      "\n",
      "Epoch 00008: val_loss did not improve from 0.45730\n",
      "Epoch 9/20\n",
      " - 772s - loss: 0.7345 - acc: 0.8401 - val_loss: 7.5473 - val_acc: 0.5000\n",
      "\n",
      "Epoch 00009: val_loss did not improve from 0.45730\n",
      "Epoch 10/20\n",
      " - 745s - loss: 3.9727 - acc: 0.7496 - val_loss: 8.0151 - val_acc: 0.5000\n",
      "\n",
      "Epoch 00010: val_loss did not improve from 0.45730\n",
      "Epoch 11/20\n",
      " - 799s - loss: 3.9252 - acc: 0.7551 - val_loss: 8.0151 - val_acc: 0.5000\n",
      "\n",
      "Epoch 00011: val_loss did not improve from 0.45730\n",
      "Epoch 12/20\n",
      " - 804s - loss: 3.9252 - acc: 0.7551 - val_loss: 8.0151 - val_acc: 0.5000\n",
      "\n",
      "Epoch 00012: val_loss did not improve from 0.45730\n",
      "Epoch 13/20\n",
      " - 793s - loss: 3.9252 - acc: 0.7551 - val_loss: 8.0151 - val_acc: 0.5000\n",
      "\n",
      "Epoch 00013: val_loss did not improve from 0.45730\n",
      "Epoch 14/20\n",
      " - 847s - loss: 3.9252 - acc: 0.7551 - val_loss: 8.0151 - val_acc: 0.5000\n",
      "\n",
      "Epoch 00014: val_loss did not improve from 0.45730\n",
      "Epoch 15/20\n",
      " - 807s - loss: 3.9252 - acc: 0.7551 - val_loss: 8.0151 - val_acc: 0.5000\n",
      "\n",
      "Epoch 00015: val_loss did not improve from 0.45730\n",
      "Epoch 16/20\n",
      " - 838s - loss: 3.9252 - acc: 0.7551 - val_loss: 8.0151 - val_acc: 0.5000\n",
      "\n",
      "Epoch 00016: val_loss did not improve from 0.45730\n",
      "Epoch 17/20\n",
      " - 864s - loss: 3.9252 - acc: 0.7551 - val_loss: 8.0151 - val_acc: 0.5000\n",
      "\n",
      "Epoch 00017: val_loss did not improve from 0.45730\n",
      "Epoch 18/20\n",
      " - 854s - loss: 3.9252 - acc: 0.7551 - val_loss: 8.0151 - val_acc: 0.5000\n",
      "\n",
      "Epoch 00018: val_loss did not improve from 0.45730\n",
      "Epoch 19/20\n",
      " - 864s - loss: 3.9252 - acc: 0.7551 - val_loss: 8.0151 - val_acc: 0.5000\n",
      "\n",
      "Epoch 00019: val_loss did not improve from 0.45730\n",
      "Epoch 20/20\n",
      " - 835s - loss: 3.9252 - acc: 0.7551 - val_loss: 8.0151 - val_acc: 0.5000\n",
      "\n",
      "Epoch 00020: val_loss did not improve from 0.45730\n"
     ]
    }
   ],
   "source": [
    "# specify the number of epochs used to train the model\n",
    "\n",
    "# regarding the original dataset: \n",
    "# train on 5216 samples, therefore batch_size=32 => 5216/32 = 163\n",
    "# first training started with epochs=20, but after epochs=10 no improvement, therefore changed to 15 \n",
    "\n",
    "# with modified dataset: start again with 20 epochs and 32 batches, then reduced to 15\n",
    "\n",
    "base_model_history = base_model_class.train_model(model=base_model, epochs=15, batch_size=32,\n",
    "                                           filepath='./saved_models/base_model_weights.best.from_scratch.hdf5',\n",
    "                                           train_tensors=train_tensors, train_targets=train_targets,\n",
    "                                           valid_tensors=valid_tensors, valid_targets=valid_targets)"
   ]
  },
  {
   "cell_type": "markdown",
   "metadata": {},
   "source": [
    "### Load the Model with the Best Validation Loss"
   ]
  },
  {
   "cell_type": "code",
   "execution_count": 10,
   "metadata": {},
   "outputs": [],
   "source": [
    "base_model_class.load_best_weights(model=base_model,\n",
    "                                   filepath='./saved_models/base_model_weights.best.from_scratch.hdf5')"
   ]
  },
  {
   "cell_type": "code",
   "execution_count": 24,
   "metadata": {},
   "outputs": [],
   "source": [
    "# plot the base model to a file and store it for further usage\n",
    "plot_model(base_model, to_file='./saved_models/base_model.png')"
   ]
  },
  {
   "cell_type": "markdown",
   "metadata": {},
   "source": [
    "### Test the Model\n",
    "\n",
    "Try out this basic model on the test chest images dataset.  What is its test accuracy?"
   ]
  },
  {
   "cell_type": "code",
   "execution_count": 19,
   "metadata": {},
   "outputs": [
    {
     "name": "stdout",
     "output_type": "stream",
     "text": [
      "Basic Model Test Accuracy: 85.677%\n"
     ]
    }
   ],
   "source": [
    "# get index of predicted pneumonia for each image in the testset\n",
    "base_model = base_model_class.get_model()\n",
    "chest_pneumonia_predictions = [np.argmax(base_model.predict(np.expand_dims(tensor, axis=0))) for tensor in test_tensors]\n",
    "\n",
    "# report test accuracy\n",
    "test_accuracy = 100 * np.sum(np.array(chest_pneumonia_predictions) == np.argmax(test_targets, axis=1))/ \\\n",
    "                                                                        len(chest_pneumonia_predictions)\n",
    "print('Basic Model Test Accuracy: %.3f%%' % test_accuracy)"
   ]
  },
  {
   "cell_type": "markdown",
   "metadata": {},
   "source": [
    "### Metrics of the Model\n",
    "\n",
    "Calculates and shows several metrics of this **basic model**. Start with evaluated classification accuracy for training and testing (must be the same as before, only as a decimal number instead of percentage).\n",
    "\n",
    "**Accuracy** is the correctness of the binary classification: it measures how often the classifier makes the correct prediction. It’s the ratio of the number of correct predictions to the total number of predictions \n",
    "\n",
    "(TP + TN) / (TP + TN + FP + FN)\n",
    "\n",
    "where: TP = TruePositive; FP = FalsePositive; TN = TrueNegative; FN = FalseNegative "
   ]
  },
  {
   "cell_type": "code",
   "execution_count": 26,
   "metadata": {},
   "outputs": [
    {
     "name": "stdout",
     "output_type": "stream",
     "text": [
      "Accuracy for training and testing of the basic model:\n",
      "Train: 0.861, Test: 0.857\n"
     ]
    }
   ],
   "source": [
    "_, train_acc = base_model.evaluate(train_tensors, train_targets, verbose=0)  # train X, train y\n",
    "_, test_acc = base_model.evaluate(test_tensors, test_targets, verbose=0)     # test X, test y\n",
    "print(\"Accuracy for training and testing of the basic model:\")\n",
    "print('Train: %.3f, Test: %.3f' % (train_acc, test_acc))"
   ]
  },
  {
   "cell_type": "markdown",
   "metadata": {},
   "source": [
    "#### Accuracy during Training\n",
    "\n",
    "Show the history diagram for epochs and associated accuracy results ..."
   ]
  },
  {
   "cell_type": "code",
   "execution_count": 7,
   "metadata": {},
   "outputs": [],
   "source": [
    "# show the history diagram for epochs and associated accuracy results (coding of the Keras documentation)\n",
    "def show_history_accuracy(history):\n",
    "    plt.plot(history.history['acc'])\n",
    "    plt.plot(history.history['val_acc'])\n",
    "    plt.title('Model accuracy')\n",
    "    plt.ylabel('Accuracy')\n",
    "    plt.xlabel('Epoch')\n",
    "    plt.legend(['Train', 'Validation'], loc='lower right')\n",
    "    plt.show()"
   ]
  },
  {
   "cell_type": "code",
   "execution_count": 28,
   "metadata": {},
   "outputs": [
    {
     "data": {
      "image/png": "[encoded data removed]",
      "text/plain": [
       "<Figure size 432x288 with 1 Axes>"
      ]
     },
     "metadata": {
      "needs_background": "light"
     },
     "output_type": "display_data"
    }
   ],
   "source": [
    "# base_model_history is the resulting instance of the base model fit() function\n",
    "show_history_accuracy(base_model_history)"
   ]
  },
  {
   "cell_type": "markdown",
   "metadata": {},
   "source": [
    "**Note:**<br>\n",
    "Regarding the result of the original dataset:<br>\n",
    "The training curve is much higher compared to the validation one, means overfitting exists. And with Epoch 6 both accuracy lines went down completely. According [Neural Network  FAQ](ftp://ftp.sas.com/pub/neural/FAQ3.html#A_over) \"Overfitting is especially dangerous because it can easily lead to predictions that are far beyond the range of the training data with many of the common types of NNs. Overfitting can also produce wild predictions in multilayer perceptrons even with noise-free data.\" In other words, with overfitting our predictions are not reliable. In the mentioned FAQ several reasons and approaches to avoid overfitting are mentioned.<br>\n",
    "In this project as one consequence the Keras Adam optimiser with decay is used and additionally the augmentation concept to get much more training images which fits better to the amount of training parameters of the network."
   ]
  },
  {
   "cell_type": "markdown",
   "metadata": {},
   "source": [
    "#### Learning during Training\n",
    "\n",
    "Show the learning curves of loss function for training and validation."
   ]
  },
  {
   "cell_type": "code",
   "execution_count": 8,
   "metadata": {},
   "outputs": [],
   "source": [
    "# Show the training & validation loss values (learning)\n",
    "def show_history_loss(history):\n",
    "    plt.plot(history.history['loss'])\n",
    "    plt.plot(history.history['val_loss'])\n",
    "    plt.title('Model loss')\n",
    "    plt.ylabel('Loss')\n",
    "    plt.xlabel('Epoch')\n",
    "    plt.legend(['Train', 'Validation'], loc='upper right')\n",
    "    plt.show()"
   ]
  },
  {
   "cell_type": "code",
   "execution_count": 30,
   "metadata": {},
   "outputs": [
    {
     "data": {
      "image/png": "[encoded data removed]",
      "text/plain": [
       "<Figure size 432x288 with 1 Axes>"
      ]
     },
     "metadata": {
      "needs_background": "light"
     },
     "output_type": "display_data"
    }
   ],
   "source": [
    "# base_model_history is the resulting instance of the base model fit() function\n",
    "show_history_loss(base_model_history)"
   ]
  },
  {
   "cell_type": "markdown",
   "metadata": {},
   "source": [
    "**Note:**<br>\n",
    "In general, the training loss is the average of the losses over each batch of training data. There are 32 samples in each batch, which are processed independently. The model 'learns' over time, so regarding an epoch, at the beginning the learning loss value from the first batch is higher compared to the loss value of the final batch at the end. During validation, only the loss value of the epochs end is created, means a lower value shall exist. \n",
    "\n",
    "We see overfitting as well, with Epoch 7 it is complete and both learning curves are unchanged at their maximum. Both diagrams show, that the model does not fit perfectly to the classification problem. In the next project parts, we will have a look, if a better fitting network architecture exists."
   ]
  },
  {
   "cell_type": "markdown",
   "metadata": {},
   "source": [
    "#### But first, some other metrics needed to compare all model results during the benchmark chapter ..."
   ]
  },
  {
   "cell_type": "markdown",
   "metadata": {},
   "source": [
    "**Precision** quantifies the binary precision. It is a ratio of true positives (images classified as pneumonia ones, and which are actually pneumonia) to all positives (all images classified as pneumonia ones, irrespective of whether that was the correct classification), in other words it is theratio of\n",
    "\n",
    "TruePositives / (TruePositives + FalsePositives)\n",
    "\n",
    "**Recall (sensitivity)** tells us what proportion of images that actually were pneumonia ones were classified by us as pneumonis ones. It is a ratio of true positives to all the images that were actually pneumonia ones, in other words it is the ratio of\n",
    "\n",
    "TruePositives / (TruePositives + FalseNegatives)\n",
    "\n",
    "A model's ability to precisely predict those that have a pneumonia is more importantthan themodel's ability to recall those individuals. We can use **F-beta score** as a metric that considers both precision and recall. According scikit-learn, the F-beta score is the weighted harmonic mean of precision and recall, reaching its optimal value at 1 and its worst value at 0. F – Measure is nothing but the harmonic mean of Precision and Recall.\n",
    "\n",
    "Fβ=(1 + β2)  (precision⋅recall / ((β2⋅precision) + recall))\n",
    "\n",
    "In particular, when β=0.5, more emphasis is placed on precision."
   ]
  },
  {
   "cell_type": "code",
   "execution_count": null,
   "metadata": {},
   "outputs": [],
   "source": [
    "# The scikit-learn metrics API expects a 1D array of actual and predicted values for comparison,\n",
    "# therefore we must reduce the 2D target arrays to 1D arrays.\n",
    "# How do the data arrays look like? \n",
    "#test_targets[:,1]\n",
    "#chest_pneumonia_predictions"
   ]
  },
  {
   "cell_type": "code",
   "execution_count": 9,
   "metadata": {},
   "outputs": [],
   "source": [
    "# some other metrics ...\n",
    "\n",
    "def get_other_metrics(test_targets, chest_pneumonia_predictions):\n",
    "    ''' \n",
    "    Delivers textual prints of several metrics:\n",
    "    precision, recall, f1 score, f-beta score with beta 0.5, \n",
    "    Cohens Kappa and confusion matrix\n",
    "    '''\n",
    "    \n",
    "    # precision: tp / (tp + fp)\n",
    "    precision = metrics.precision_score(test_targets[:,1], chest_pneumonia_predictions)\n",
    "    print('Precision: %.3f' % precision)\n",
    "    # recall: tp / (tp + fn)\n",
    "    recall = metrics.recall_score(test_targets[:,1], chest_pneumonia_predictions)\n",
    "    print('Recall: %.3f' % recall)\n",
    "    # f1: 2 tp / (2 tp + fp + fn)\n",
    "    f1 = metrics.f1_score(test_targets[:,1], chest_pneumonia_predictions)\n",
    "    print('F1 score: %.3f' % f1)\n",
    "    # f-beta score\n",
    "    f_beta = metrics.fbeta_score(test_targets[:,1], chest_pneumonia_predictions, average = 'weighted', beta=0.5)\n",
    "    print('F-beta score: %.3f  with beta=0.5' % f_beta)\n",
    "\n",
    "    print()\n",
    "    # kappa\n",
    "    kappa = metrics.cohen_kappa_score(test_targets[:,1], chest_pneumonia_predictions)\n",
    "    print('Cohens kappa: %.3f' % kappa)\n",
    "    # confusion matrix\n",
    "    matrix = metrics.confusion_matrix(test_targets[:,1], chest_pneumonia_predictions)\n",
    "    print('Confusion matrix:\\n{}'.format(matrix))"
   ]
  },
  {
   "cell_type": "code",
   "execution_count": 32,
   "metadata": {},
   "outputs": [
    {
     "name": "stdout",
     "output_type": "stream",
     "text": [
      "Precision: 0.930\n",
      "Recall: 0.837\n",
      "F1 score: 0.881\n",
      "F-beta score: 0.863  with beta=0.5\n",
      "\n",
      "Cohens kappa: 0.703\n",
      "Confusion matrix:\n",
      "[[377  46]\n",
      " [119 610]]\n"
     ]
    }
   ],
   "source": [
    "get_other_metrics(test_targets, chest_pneumonia_predictions)"
   ]
  },
  {
   "cell_type": "markdown",
   "metadata": {},
   "source": [
    "**Note:**<br>\n",
    "Regarding this metrics some more explanations:\n",
    "\n",
    "- **Cohen's Kappa**\n",
    "\n",
    "\n",
    "- **Confusion matrix**<br>\n",
    "  In general its architecture looks like\n",
    "  ![confusion matrix](./images/ConfusionMatrix_architecture.png)\n",
    "\n",
    "  Regarding the original dataset:<br>\n",
    "  So, for this basic model we have 184 true positives and 39 false negatives and on the other hand, 351 true negatives and 50 false positives. The false negatives are too much (type 2 error). This should be improved. We will see how this values change using different models compared to this basic one.\n",
    "  \n",
    "  \n",
    "- **Type 1 and Type 2 Errors**<br>\n",
    "  There are two types of errors that can be identified here:\n",
    "\n",
    "    Type 1 Error: The model predicted the instance to be a Positive class, but it is incorrect. This is False Positive (FP).<br>\n",
    "    Type 2 Error: The model predicted the instance to be the Negative class, but it is incorrect. This is False Negative (FN).\n"
   ]
  },
  {
   "cell_type": "code",
   "execution_count": 33,
   "metadata": {},
   "outputs": [
    {
     "name": "stdout",
     "output_type": "stream",
     "text": [
      "ROC AUC Pneumonia class prediction of basic model: 0.922\n"
     ]
    }
   ],
   "source": [
    "# ROC AUC\n",
    "# predict probabilities for the test set\n",
    "yhat_probs = base_model.predict(test_tensors, verbose=0)  # arrays of chest normal and pneumonia probabilities\n",
    "#yhat_probs\n",
    "auc = metrics.roc_auc_score(y_true=test_targets[:,1], y_score=yhat_probs[:,1]) # pneumonia probability values\n",
    "print('ROC AUC Pneumonia class prediction of basic model: %.3f' % auc)"
   ]
  },
  {
   "cell_type": "markdown",
   "metadata": {},
   "source": [
    "**Note:**<br>\n",
    "The ROC – Receiver operating characteristic - curve is a curve between true positive rate and false positive rate for various threshold values. It informs us how good or bad our model performance is. The more the area under the curve (AUC), the better is the performance of our model to distinguish the classes. Means, it is a prediction probability curve for the different classes.\n",
    "\n",
    "A typical ROC curve has False Positive Rate (FPR) on the X-axis and True Positive Rate (TPR) on the Y-axis. And the ideal value for AUC is 1. In general, such best case scenario will not be reached, means we don't have a clear distinction between the two classes NORMAL and PNEUMONIA. In other words, we have some overlapping of the class predictions and that introduces Type 1 and Type 2 errors to the model prediction. Regarding the AUC value it will be to be between 0.5 and 1. In general, the diagnoal line visualises the random prediction.\n",
    "\n",
    "In our case, we are looking to the 'positive' Pneumonia class. So, how does the ROC AUC diagram looks like to the given ROC AUC value above?"
   ]
  },
  {
   "cell_type": "code",
   "execution_count": 10,
   "metadata": {},
   "outputs": [],
   "source": [
    "# Plot the ROC AUC diagram for Pneumonia;\n",
    "def plot_ROC_AUC(fpr, tprm, modelname):\n",
    "    \n",
    "    print(\"--- associated ROC AUC diagram of model type {} ---\".format(modelname))\n",
    "    plt.plot(fpr, tpr, color='red')\n",
    "    plt.title('Receiver Operating Characteristic Curve', size=15)\n",
    "    plt.plot([0, 1], [0, 1], color='green', linestyle=':')\n",
    "    plt.xlabel('False Positive Rate', size=13)\n",
    "    plt.ylabel('True Positive Rate', size=13)\n",
    "    plt.show()"
   ]
  },
  {
   "cell_type": "code",
   "execution_count": 35,
   "metadata": {},
   "outputs": [
    {
     "name": "stdout",
     "output_type": "stream",
     "text": [
      "--- associated ROC AUC diagram of model type Basic CNN Model ---\n"
     ]
    },
    {
     "data": {
      "image/png": "[encoded data removed]",
      "text/plain": [
       "<Figure size 432x288 with 1 Axes>"
      ]
     },
     "metadata": {
      "needs_background": "light"
     },
     "output_type": "display_data"
    }
   ],
   "source": [
    "# see:\n",
    "# https://scikit-learn.org/stable/modules/generated/sklearn.metrics.roc_curve.html#sklearn.metrics.roc_curve\n",
    "fpr, tpr, threshold = metrics.roc_curve(y_true=test_targets[:,1], y_score=yhat_probs[:,1])\n",
    "# plot ROC Curve using the defined function\n",
    "plot_ROC_AUC(fpr, tpr, \"Basic CNN Model\")"
   ]
  },
  {
   "cell_type": "markdown",
   "metadata": {},
   "source": [
    "<a id='step5'></a>\n",
    "## Step 5 Last Basic Model with Augmentation\n",
    "\n",
    "### Model Implementation and Training\n",
    "\n",
    "We are using image data augmentation to decrease the amount of images of our training dataset. This concept shall improve the performance and the generalisation ability of our network. We want to prevent overfitting. Keras offers already a process to do this, using its ImageDataGenerator object class. The original images are rotated, shifted, zoomed, flipped etc. and by doing this, creating new image mutations.\n",
    "\n",
    "Generator handling according the given Keras example using .flow() functionality together with the already created pre-processed tensors instances. With such tensors rescaling by /255 has already happened. The .flow() command generates batches of randomly transformed images.\n",
    "\n",
    "The generator parameters are set according the image properties, having chest images. E.g. huge zooming or rotation would make no sense, but horizontal flip is fine. \n",
    "\n",
    "In general according augmentation information, have a look to the associated Keras classification [article](https://blog.keras.io/building-powerful-image-classification-models-using-very-little-data.html)."
   ]
  },
  {
   "cell_type": "code",
   "execution_count": 19,
   "metadata": {},
   "outputs": [],
   "source": [
    "train_data_generator = ImageDataGenerator(\n",
    "    rotation_range=20,\n",
    "    width_shift_range=0.2,\n",
    "    rescale=1.,\n",
    "    height_shift_range=0.2,\n",
    "    shear_range=0.2,\n",
    "    zoom_range=0.05,\n",
    "    horizontal_flip=True,\n",
    "    vertical_flip=False,\n",
    "    fill_mode='nearest')\n",
    "\n",
    "validation_generator = ImageDataGenerator(rescale=1)"
   ]
  },
  {
   "cell_type": "code",
   "execution_count": 20,
   "metadata": {},
   "outputs": [],
   "source": [
    "batch_size = 32\n",
    "training_data = train_data_generator.flow(train_tensors, train_targets, batch_size=batch_size)\n",
    "validation_data = validation_generator.flow(valid_tensors, valid_targets, batch_size=batch_size)"
   ]
  },
  {
   "cell_type": "code",
   "execution_count": 13,
   "metadata": {},
   "outputs": [
    {
     "name": "stdout",
     "output_type": "stream",
     "text": [
      "WARNING:tensorflow:From C:\\anaconda\\anaconda3\\lib\\site-packages\\tensorflow\\python\\ops\\math_ops.py:3066: to_int32 (from tensorflow.python.ops.math_ops) is deprecated and will be removed in a future version.\n",
      "Instructions for updating:\n",
      "Use tf.cast instead.\n",
      "Epoch 1/15\n",
      " - 326s - loss: 0.5229 - acc: 0.7695 - val_loss: 1.0391 - val_acc: 0.7188\n",
      "\n",
      "Epoch 00001: val_loss improved from inf to 1.03908, saving model to ./saved_models/base_model_weights.best.withAugmentation.hdf5\n",
      "Epoch 2/15\n",
      " - 325s - loss: 3.5012 - acc: 0.7444 - val_loss: 8.0151 - val_acc: 0.5000\n",
      "\n",
      "Epoch 00002: val_loss did not improve from 1.03908\n",
      "Epoch 3/15\n",
      " - 307s - loss: 3.9252 - acc: 0.7551 - val_loss: 8.0151 - val_acc: 0.5000\n",
      "\n",
      "Epoch 00003: val_loss did not improve from 1.03908\n",
      "Epoch 4/15\n",
      " - 364s - loss: 3.9252 - acc: 0.7551 - val_loss: 8.0151 - val_acc: 0.5000\n",
      "\n",
      "Epoch 00004: val_loss did not improve from 1.03908\n",
      "Epoch 5/15\n",
      " - 319s - loss: 3.9252 - acc: 0.7551 - val_loss: 8.0151 - val_acc: 0.5000\n",
      "\n",
      "Epoch 00005: val_loss did not improve from 1.03908\n",
      "Epoch 6/15\n",
      " - 313s - loss: 3.9252 - acc: 0.7551 - val_loss: 8.0151 - val_acc: 0.5000\n",
      "\n",
      "Epoch 00006: val_loss did not improve from 1.03908\n",
      "Epoch 7/15\n",
      " - 335s - loss: 3.9252 - acc: 0.7551 - val_loss: 8.0151 - val_acc: 0.5000\n",
      "\n",
      "Epoch 00007: val_loss did not improve from 1.03908\n",
      "Epoch 8/15\n",
      " - 272s - loss: 3.9252 - acc: 0.7551 - val_loss: 8.0151 - val_acc: 0.5000\n",
      "\n",
      "Epoch 00008: val_loss did not improve from 1.03908\n",
      "Epoch 9/15\n",
      " - 302s - loss: 3.9252 - acc: 0.7551 - val_loss: 8.0151 - val_acc: 0.5000\n",
      "\n",
      "Epoch 00009: val_loss did not improve from 1.03908\n",
      "Epoch 10/15\n",
      " - 280s - loss: 3.9252 - acc: 0.7551 - val_loss: 8.0151 - val_acc: 0.5000\n",
      "\n",
      "Epoch 00010: val_loss did not improve from 1.03908\n",
      "Epoch 11/15\n",
      " - 283s - loss: 3.9252 - acc: 0.7551 - val_loss: 8.0151 - val_acc: 0.5000\n",
      "\n",
      "Epoch 00011: val_loss did not improve from 1.03908\n",
      "Epoch 12/15\n",
      " - 284s - loss: 3.9252 - acc: 0.7551 - val_loss: 8.0151 - val_acc: 0.5000\n",
      "\n",
      "Epoch 00012: val_loss did not improve from 1.03908\n",
      "Epoch 13/15\n",
      " - 280s - loss: 3.9252 - acc: 0.7551 - val_loss: 8.0151 - val_acc: 0.5000\n",
      "\n",
      "Epoch 00013: val_loss did not improve from 1.03908\n",
      "Epoch 14/15\n",
      " - 290s - loss: 3.9252 - acc: 0.7551 - val_loss: 8.0151 - val_acc: 0.5000\n",
      "\n",
      "Epoch 00014: val_loss did not improve from 1.03908\n",
      "Epoch 15/15\n",
      " - 313s - loss: 3.9252 - acc: 0.7551 - val_loss: 8.0151 - val_acc: 0.5000\n",
      "\n",
      "Epoch 00015: val_loss did not improve from 1.03908\n"
     ]
    }
   ],
   "source": [
    "epochs = 15  # first try: 15 because of insights from former models\n",
    "augm_base_model_history = base_model_class.augmentation_train_model(model=base_model,\n",
    "                                  filepath='./saved_models/base_model_weights.best.withAugmentation.hdf5',\n",
    "                                  training_data=training_data, validation_data=validation_data,\n",
    "                                  epochs=epochs, batch_size=batch_size,\n",
    "                                  train_tensors=train_tensors, valid_tensors=valid_tensors)"
   ]
  },
  {
   "cell_type": "markdown",
   "metadata": {},
   "source": [
    "### Load the Model with the Best Validation Loss"
   ]
  },
  {
   "cell_type": "code",
   "execution_count": 14,
   "metadata": {},
   "outputs": [],
   "source": [
    "base_model_class.load_best_weights(model=base_model,\n",
    "                                   filepath='./saved_models/base_model_weights.best.withAugmentation.hdf5')"
   ]
  },
  {
   "cell_type": "markdown",
   "metadata": {},
   "source": [
    "### Test the Model"
   ]
  },
  {
   "cell_type": "code",
   "execution_count": 15,
   "metadata": {},
   "outputs": [
    {
     "name": "stdout",
     "output_type": "stream",
     "text": [
      "Basic Model with Augmentation: its Test Accuracy: 79.167%\n"
     ]
    }
   ],
   "source": [
    "# get index of predicted pneumonia for each image in the testset\n",
    "augm_base_model = base_model_class.get_model()\n",
    "augm_chest_pneumonia_predictions = [np.argmax(augm_base_model.predict(np.expand_dims(tensor, axis=0))) for tensor in test_tensors]\n",
    "\n",
    "# report test accuracy\n",
    "test_accuracy = 100 * np.sum(np.array(augm_chest_pneumonia_predictions) == np.argmax(test_targets, axis=1))/ \\\n",
    "                                                                           len(augm_chest_pneumonia_predictions)\n",
    "print('Basic Model with Augmentation: its Test Accuracy: %.3f%%' % test_accuracy)"
   ]
  },
  {
   "cell_type": "markdown",
   "metadata": {},
   "source": [
    "### Metrics of the Model"
   ]
  },
  {
   "cell_type": "code",
   "execution_count": 16,
   "metadata": {},
   "outputs": [
    {
     "name": "stdout",
     "output_type": "stream",
     "text": [
      "Accuracy for training and testing of the basic model with Augmentation:\n",
      "Train: 0.851, Test: 0.792\n"
     ]
    }
   ],
   "source": [
    "_, augm_base_train_acc = augm_base_model.evaluate(train_tensors, train_targets, verbose=0)  # train X, train y\n",
    "_, augm_base_test_acc = augm_base_model.evaluate(test_tensors, test_targets, verbose=0)     # test X, test y\n",
    "print(\"Accuracy for training and testing of the basic model with Augmentation:\")\n",
    "print('Train: %.3f, Test: %.3f' % (augm_base_train_acc, augm_base_test_acc))"
   ]
  },
  {
   "cell_type": "markdown",
   "metadata": {},
   "source": [
    "#### Accuracy during Training\n",
    "\n",
    "Show the history diagram for epochs and associated accuracy results ..."
   ]
  },
  {
   "cell_type": "code",
   "execution_count": 21,
   "metadata": {},
   "outputs": [
    {
     "data": {
      "image/png": "[encoded data removed]",
      "text/plain": [
       "<Figure size 432x288 with 1 Axes>"
      ]
     },
     "metadata": {
      "needs_background": "light"
     },
     "output_type": "display_data"
    }
   ],
   "source": [
    "show_history_accuracy(augm_base_model_history)"
   ]
  },
  {
   "cell_type": "markdown",
   "metadata": {},
   "source": [
    "#### Learning during Training\n",
    "\n",
    "Show the learning curves of loss function for training and validation."
   ]
  },
  {
   "cell_type": "code",
   "execution_count": 22,
   "metadata": {},
   "outputs": [
    {
     "data": {
      "image/png": "[encoded data removed]",
      "text/plain": [
       "<Figure size 432x288 with 1 Axes>"
      ]
     },
     "metadata": {
      "needs_background": "light"
     },
     "output_type": "display_data"
    }
   ],
   "source": [
    "show_history_loss(augm_base_model_history)"
   ]
  },
  {
   "cell_type": "markdown",
   "metadata": {},
   "source": [
    "#### Some other Metrics"
   ]
  },
  {
   "cell_type": "code",
   "execution_count": 23,
   "metadata": {},
   "outputs": [
    {
     "name": "stdout",
     "output_type": "stream",
     "text": [
      "Precision: 0.773\n",
      "Recall: 0.949\n",
      "F1 score: 0.852\n",
      "F-beta score: 0.786  with beta=0.5\n",
      "\n",
      "Cohens kappa: 0.511\n",
      "Confusion matrix:\n",
      "[[220 203]\n",
      " [ 37 692]]\n"
     ]
    }
   ],
   "source": [
    "get_other_metrics(test_targets, augm_chest_pneumonia_predictions)"
   ]
  },
  {
   "cell_type": "code",
   "execution_count": 24,
   "metadata": {},
   "outputs": [
    {
     "name": "stdout",
     "output_type": "stream",
     "text": [
      "ROC AUC Pneumonia class prediction of basic model with Augmentation: 0.912\n"
     ]
    }
   ],
   "source": [
    "# ROC AUC\n",
    "# predict probabilities for the test set\n",
    "yhat_probs = augm_base_model.predict(test_tensors, verbose=0)  # arrays: chest normal & pneumonia probabilities\n",
    "#yhat_probs\n",
    "auc = metrics.roc_auc_score(y_true=test_targets[:,1], y_score=yhat_probs[:,1]) # pneumonia probability values\n",
    "print('ROC AUC Pneumonia class prediction of basic model with Augmentation: %.3f' % auc)"
   ]
  },
  {
   "cell_type": "code",
   "execution_count": 26,
   "metadata": {},
   "outputs": [
    {
     "name": "stdout",
     "output_type": "stream",
     "text": [
      "--- associated ROC AUC diagram of model type Basic CNN Model with Augmentation ---\n"
     ]
    },
    {
     "data": {
      "image/png": "[encoded data removed]",
      "text/plain": [
       "<Figure size 432x288 with 1 Axes>"
      ]
     },
     "metadata": {
      "needs_background": "light"
     },
     "output_type": "display_data"
    }
   ],
   "source": [
    "fpr, tpr, threshold = metrics.roc_curve(y_true=test_targets[:,1], y_score=yhat_probs[:,1])\n",
    "# plot ROC Curve using the defined function\n",
    "plot_ROC_AUC(fpr, tpr, \"Basic CNN Model with Augmentation\")"
   ]
  },
  {
   "cell_type": "markdown",
   "metadata": {},
   "source": [
    "<a id='step6'></a>\n",
    "## Step 6: Such Basic Model with Adam as Optimiser\n",
    "\n",
    "### Compile and Train the Model"
   ]
  },
  {
   "cell_type": "code",
   "execution_count": 27,
   "metadata": {},
   "outputs": [
    {
     "name": "stdout",
     "output_type": "stream",
     "text": [
      "\n",
      "--- Build model summary of Basic_CNN_Model: ---\n",
      "_________________________________________________________________\n",
      "Layer (type)                 Output Shape              Param #   \n",
      "=================================================================\n",
      "conv2d_6 (Conv2D)            (None, 224, 224, 16)      208       \n",
      "_________________________________________________________________\n",
      "max_pooling2d_6 (MaxPooling2 (None, 112, 112, 16)      0         \n",
      "_________________________________________________________________\n",
      "dropout_6 (Dropout)          (None, 112, 112, 16)      0         \n",
      "_________________________________________________________________\n",
      "conv2d_7 (Conv2D)            (None, 112, 112, 32)      2080      \n",
      "_________________________________________________________________\n",
      "max_pooling2d_7 (MaxPooling2 (None, 56, 56, 32)        0         \n",
      "_________________________________________________________________\n",
      "dropout_7 (Dropout)          (None, 56, 56, 32)        0         \n",
      "_________________________________________________________________\n",
      "conv2d_8 (Conv2D)            (None, 56, 56, 64)        8256      \n",
      "_________________________________________________________________\n",
      "max_pooling2d_8 (MaxPooling2 (None, 28, 28, 64)        0         \n",
      "_________________________________________________________________\n",
      "dropout_8 (Dropout)          (None, 28, 28, 64)        0         \n",
      "_________________________________________________________________\n",
      "conv2d_9 (Conv2D)            (None, 28, 28, 128)       32896     \n",
      "_________________________________________________________________\n",
      "max_pooling2d_9 (MaxPooling2 (None, 14, 14, 128)       0         \n",
      "_________________________________________________________________\n",
      "dropout_9 (Dropout)          (None, 14, 14, 128)       0         \n",
      "_________________________________________________________________\n",
      "conv2d_10 (Conv2D)           (None, 14, 14, 256)       131328    \n",
      "_________________________________________________________________\n",
      "max_pooling2d_10 (MaxPooling (None, 7, 7, 256)         0         \n",
      "_________________________________________________________________\n",
      "dropout_10 (Dropout)         (None, 7, 7, 256)         0         \n",
      "_________________________________________________________________\n",
      "global_average_pooling2d_2 ( (None, 256)               0         \n",
      "_________________________________________________________________\n",
      "dense_2 (Dense)              (None, 2)                 514       \n",
      "=================================================================\n",
      "Total params: 175,282\n",
      "Trainable params: 175,282\n",
      "Non-trainable params: 0\n",
      "_________________________________________________________________\n"
     ]
    }
   ],
   "source": [
    "# Start creating as new instance with the basic model\n",
    "adam_base_model_class = Model(\"Basic\", \"Basic_CNN_Model\", \"accuracy\")\n",
    "adam_base_model = adam_base_model_class.get_model()"
   ]
  },
  {
   "cell_type": "code",
   "execution_count": 29,
   "metadata": {},
   "outputs": [
    {
     "name": "stdout",
     "output_type": "stream",
     "text": [
      "<models.Basic_CNN_Model.Basic_CNN_Model object at 0x000000BF96E6CF98>\n"
     ]
    },
    {
     "data": {
      "text/plain": [
       "<keras.engine.sequential.Sequential at 0xbf8b053ef0>"
      ]
     },
     "execution_count": 29,
     "metadata": {},
     "output_type": "execute_result"
    }
   ],
   "source": [
    "# adam defaults:\n",
    "# keras.optimizers.Adam(lr=0.001, beta_1=0.9, beta_2=0.999, epsilon=None, decay=0.0, amsgrad=False)\n",
    "# learn with decay to avoid overfitting, decay=1e-6\n",
    "adam_base_model_class = adam_base_model_class.get_class()\n",
    "#print(adam_base_model_class)\n",
    "adam_base_model_class.set_Adam_params()\n",
    "adam_base_model_class.compile_model(model=base_model, optimizer='Adam', loss='binary_crossentropy',\n",
    "                                    metrics=['accuracy'])\n",
    "adam_base_model = adam_base_model_class.get_model()\n",
    "#adam_base_model"
   ]
  },
  {
   "cell_type": "code",
   "execution_count": 30,
   "metadata": {},
   "outputs": [
    {
     "name": "stdout",
     "output_type": "stream",
     "text": [
      "Train on 4672 samples, validate on 32 samples\n",
      "Epoch 1/20\n",
      " - 806s - loss: 0.2769 - acc: 0.8823 - val_loss: 0.8019 - val_acc: 0.7812\n",
      "\n",
      "Epoch 00001: val_loss improved from inf to 0.80191, saving model to ./saved_models/base_model_weights_withAdam.best.from_scratch.hdf5\n",
      "Epoch 2/20\n",
      " - 793s - loss: 0.2255 - acc: 0.9071 - val_loss: 0.6530 - val_acc: 0.7188\n",
      "\n",
      "Epoch 00002: val_loss improved from 0.80191 to 0.65296, saving model to ./saved_models/base_model_weights_withAdam.best.from_scratch.hdf5\n",
      "Epoch 3/20\n",
      " - 804s - loss: 0.2003 - acc: 0.9187 - val_loss: 0.5213 - val_acc: 0.6562\n",
      "\n",
      "Epoch 00003: val_loss improved from 0.65296 to 0.52127, saving model to ./saved_models/base_model_weights_withAdam.best.from_scratch.hdf5\n",
      "Epoch 4/20\n",
      " - 819s - loss: 0.1991 - acc: 0.9170 - val_loss: 0.6518 - val_acc: 0.7188\n",
      "\n",
      "Epoch 00004: val_loss did not improve from 0.52127\n",
      "Epoch 5/20\n",
      " - 847s - loss: 0.1962 - acc: 0.9197 - val_loss: 0.3184 - val_acc: 0.8438\n",
      "\n",
      "Epoch 00005: val_loss improved from 0.52127 to 0.31838, saving model to ./saved_models/base_model_weights_withAdam.best.from_scratch.hdf5\n",
      "Epoch 6/20\n",
      " - 752s - loss: 0.2009 - acc: 0.9144 - val_loss: 0.2646 - val_acc: 0.8438\n",
      "\n",
      "Epoch 00006: val_loss improved from 0.31838 to 0.26463, saving model to ./saved_models/base_model_weights_withAdam.best.from_scratch.hdf5\n",
      "Epoch 7/20\n",
      " - 709s - loss: 0.1736 - acc: 0.9292 - val_loss: 0.2342 - val_acc: 0.8750\n",
      "\n",
      "Epoch 00007: val_loss improved from 0.26463 to 0.23423, saving model to ./saved_models/base_model_weights_withAdam.best.from_scratch.hdf5\n",
      "Epoch 8/20\n",
      " - 834s - loss: 0.1544 - acc: 0.9341 - val_loss: 0.4355 - val_acc: 0.8125\n",
      "\n",
      "Epoch 00008: val_loss did not improve from 0.23423\n",
      "Epoch 9/20\n",
      " - 806s - loss: 0.1655 - acc: 0.9307 - val_loss: 0.1330 - val_acc: 1.0000\n",
      "\n",
      "Epoch 00009: val_loss improved from 0.23423 to 0.13295, saving model to ./saved_models/base_model_weights_withAdam.best.from_scratch.hdf5\n",
      "Epoch 10/20\n",
      " - 823s - loss: 0.1563 - acc: 0.9360 - val_loss: 0.4048 - val_acc: 0.7812\n",
      "\n",
      "Epoch 00010: val_loss did not improve from 0.13295\n",
      "Epoch 11/20\n",
      " - 798s - loss: 0.1500 - acc: 0.9405 - val_loss: 0.1539 - val_acc: 0.9062\n",
      "\n",
      "Epoch 00011: val_loss did not improve from 0.13295\n",
      "Epoch 12/20\n",
      " - 797s - loss: 0.1602 - acc: 0.9336 - val_loss: 0.5067 - val_acc: 0.7500\n",
      "\n",
      "Epoch 00012: val_loss did not improve from 0.13295\n",
      "Epoch 13/20\n",
      " - 795s - loss: 0.1384 - acc: 0.9469 - val_loss: 0.2041 - val_acc: 0.9375\n",
      "\n",
      "Epoch 00013: val_loss did not improve from 0.13295\n",
      "Epoch 14/20\n",
      " - 792s - loss: 0.1454 - acc: 0.9431 - val_loss: 0.1133 - val_acc: 1.0000\n",
      "\n",
      "Epoch 00014: val_loss improved from 0.13295 to 0.11334, saving model to ./saved_models/base_model_weights_withAdam.best.from_scratch.hdf5\n",
      "Epoch 15/20\n",
      " - 836s - loss: 0.1320 - acc: 0.9454 - val_loss: 0.3867 - val_acc: 0.7812\n",
      "\n",
      "Epoch 00015: val_loss did not improve from 0.11334\n",
      "Epoch 16/20\n",
      " - 837s - loss: 0.1329 - acc: 0.9473 - val_loss: 0.2646 - val_acc: 0.8438\n",
      "\n",
      "Epoch 00016: val_loss did not improve from 0.11334\n",
      "Epoch 17/20\n",
      " - 775s - loss: 0.1235 - acc: 0.9501 - val_loss: 0.0953 - val_acc: 1.0000\n",
      "\n",
      "Epoch 00017: val_loss improved from 0.11334 to 0.09526, saving model to ./saved_models/base_model_weights_withAdam.best.from_scratch.hdf5\n",
      "Epoch 18/20\n",
      " - 837s - loss: 0.1220 - acc: 0.9480 - val_loss: 0.1026 - val_acc: 1.0000\n",
      "\n",
      "Epoch 00018: val_loss did not improve from 0.09526\n",
      "Epoch 19/20\n",
      " - 734s - loss: 0.1248 - acc: 0.9486 - val_loss: 0.2363 - val_acc: 0.9062\n",
      "\n",
      "Epoch 00019: val_loss did not improve from 0.09526\n",
      "Epoch 20/20\n",
      " - 639s - loss: 0.1126 - acc: 0.9551 - val_loss: 0.0981 - val_acc: 1.0000\n",
      "\n",
      "Epoch 00020: val_loss did not improve from 0.09526\n"
     ]
    }
   ],
   "source": [
    "# train the model with call of train function\n",
    "# because of experiences of former trainings where improvements happened at the end of the 15 epochs,\n",
    "# now the epochs value is set to 20\n",
    "Adam_base_model_history = adam_base_model_class.train_model(model=adam_base_model, epochs=20, batch_size = 32,\n",
    "                                  filepath='./saved_models/base_model_weights_withAdam.best.from_scratch.hdf5',\n",
    "                                  train_tensors=train_tensors, train_targets=train_targets,\n",
    "                                  valid_tensors=valid_tensors, valid_targets=valid_targets)"
   ]
  },
  {
   "cell_type": "markdown",
   "metadata": {},
   "source": [
    "### Load the Model with the Best Validation Loss"
   ]
  },
  {
   "cell_type": "code",
   "execution_count": 31,
   "metadata": {},
   "outputs": [],
   "source": [
    "base_model_class.load_best_weights(model=adam_base_model,\n",
    "                                   filepath='./saved_models/base_model_weights_withAdam.best.from_scratch.hdf5')"
   ]
  },
  {
   "cell_type": "markdown",
   "metadata": {},
   "source": [
    "### Test the Model"
   ]
  },
  {
   "cell_type": "code",
   "execution_count": 32,
   "metadata": {},
   "outputs": [
    {
     "name": "stdout",
     "output_type": "stream",
     "text": [
      "Basic Model with Adam optimiser: its Test Accuracy: 88.455%\n"
     ]
    }
   ],
   "source": [
    "# get index of predicted pneumonia for each image in the testset\n",
    "adam_base_model = base_model_class.get_model()\n",
    "Adam_chest_pneumonia_predictions = [np.argmax(adam_base_model.predict(np.expand_dims(tensor, axis=0))) for tensor in test_tensors]\n",
    "\n",
    "# report test accuracy\n",
    "test_accuracy = 100 * np.sum(np.array(Adam_chest_pneumonia_predictions) == np.argmax(test_targets, axis=1))/ \\\n",
    "                                                                           len(Adam_chest_pneumonia_predictions)\n",
    "print('Basic Model with Adam optimiser: its Test Accuracy: %.3f%%' % test_accuracy)"
   ]
  },
  {
   "cell_type": "markdown",
   "metadata": {},
   "source": [
    "### Metrics of the Model\n",
    "\n",
    "Calculates and shows several metrics of this **basic model with Adam optimiser**."
   ]
  },
  {
   "cell_type": "code",
   "execution_count": 33,
   "metadata": {},
   "outputs": [
    {
     "name": "stdout",
     "output_type": "stream",
     "text": [
      "Accuracy for training and testing of the basic model with Adam optimiser:\n",
      "Train: 0.954, Test: 0.885\n"
     ]
    }
   ],
   "source": [
    "_, Adam_base_train_acc = adam_base_model.evaluate(train_tensors, train_targets, verbose=0)  # train X, train y\n",
    "_, Adam_base_test_acc = adam_base_model.evaluate(test_tensors, test_targets, verbose=0)     # test X, test y\n",
    "print(\"Accuracy for training and testing of the basic model with Adam optimiser:\")\n",
    "print('Train: %.3f, Test: %.3f' % (Adam_base_train_acc, Adam_base_test_acc))"
   ]
  },
  {
   "cell_type": "markdown",
   "metadata": {},
   "source": [
    "#### Accuracy during Training\n",
    "\n",
    "Show the history diagram for epochs and associated accuracy results ..."
   ]
  },
  {
   "cell_type": "code",
   "execution_count": 34,
   "metadata": {},
   "outputs": [
    {
     "data": {
      "image/png": "[encoded data removed]",
      "text/plain": [
       "<Figure size 432x288 with 1 Axes>"
      ]
     },
     "metadata": {
      "needs_background": "light"
     },
     "output_type": "display_data"
    }
   ],
   "source": [
    "# Adam_base_model_history is the resulting instance of the models fit() function\n",
    "show_history_accuracy(Adam_base_model_history)"
   ]
  },
  {
   "cell_type": "markdown",
   "metadata": {},
   "source": [
    "**Note:**<br>\n",
    "Second try with original dataset:<br>\n",
    "The training set is still much better compared to the validation set, means there is still overfitting, but now starting with epoch 12 the validation line improves getting better accuracy. So, it could be with a higher epoch value of 20 or 30 that there is an intersection point where we know we have to stop the training.\n",
    "\n",
    "First try with modified dataset:<br>\n",
    "The general results of this dataset using 20 epochs looks much better. Such huge overfitting as before is not available."
   ]
  },
  {
   "cell_type": "markdown",
   "metadata": {},
   "source": [
    "#### Learning during Training\n",
    "\n",
    "Show the learning curves of loss function for training and validation."
   ]
  },
  {
   "cell_type": "code",
   "execution_count": 35,
   "metadata": {},
   "outputs": [
    {
     "data": {
      "image/png": "[encoded data removed]",
      "text/plain": [
       "<Figure size 432x288 with 1 Axes>"
      ]
     },
     "metadata": {
      "needs_background": "light"
     },
     "output_type": "display_data"
    }
   ],
   "source": [
    "show_history_loss(Adam_base_model_history)"
   ]
  },
  {
   "cell_type": "markdown",
   "metadata": {},
   "source": [
    "#### Some other Metrics"
   ]
  },
  {
   "cell_type": "code",
   "execution_count": 36,
   "metadata": {},
   "outputs": [
    {
     "name": "stdout",
     "output_type": "stream",
     "text": [
      "Precision: 0.871\n",
      "Recall: 0.960\n",
      "F1 score: 0.913\n",
      "F-beta score: 0.884  with beta=0.5\n",
      "\n",
      "Cohens kappa: 0.742\n",
      "Confusion matrix:\n",
      "[[319 104]\n",
      " [ 29 700]]\n"
     ]
    }
   ],
   "source": [
    "get_other_metrics(test_targets, Adam_chest_pneumonia_predictions)"
   ]
  },
  {
   "cell_type": "code",
   "execution_count": 37,
   "metadata": {},
   "outputs": [
    {
     "name": "stdout",
     "output_type": "stream",
     "text": [
      "ROC AUC Pneumonia class prediction of basic model with Adam optimiser: 0.954\n"
     ]
    }
   ],
   "source": [
    "# ROC AUC\n",
    "# predict probabilities for the test set\n",
    "yhat_probs = adam_base_model.predict(test_tensors, verbose=0)  # arrays: chest normal & pneumonia probabilities\n",
    "#yhat_probs\n",
    "auc = metrics.roc_auc_score(y_true=test_targets[:,1], y_score=yhat_probs[:,1]) # pneumonia probability values\n",
    "print('ROC AUC Pneumonia class prediction of basic model with Adam optimiser: %.3f' % auc)"
   ]
  },
  {
   "cell_type": "code",
   "execution_count": 38,
   "metadata": {},
   "outputs": [
    {
     "name": "stdout",
     "output_type": "stream",
     "text": [
      "--- associated ROC AUC diagram of model type Basic CNN Model with Adam optimiser ---\n"
     ]
    },
    {
     "data": {
      "image/png": "[encoded data removed]",
      "text/plain": [
       "<Figure size 432x288 with 1 Axes>"
      ]
     },
     "metadata": {
      "needs_background": "light"
     },
     "output_type": "display_data"
    }
   ],
   "source": [
    "fpr, tpr, threshold = metrics.roc_curve(y_true=test_targets[:,1], y_score=yhat_probs[:,1])\n",
    "# plot ROC Curve using the defined function\n",
    "plot_ROC_AUC(fpr, tpr, \"Basic CNN Model with Adam optimiser\")"
   ]
  },
  {
   "cell_type": "markdown",
   "metadata": {},
   "source": [
    "**Note:**<br>\n",
    "......."
   ]
  },
  {
   "cell_type": "markdown",
   "metadata": {},
   "source": [
    "<a id='step7'></a>\n",
    "## Step 7: Last Basic Model with Adam and Augmentation\n",
    "\n",
    "### Model Implementation and Training\n",
    "\n",
    "We are using image data augmentation to decrease the amount of images of our training dataset. This concept shall improve the performance and the generalisation ability of our network. We want to prevent overfitting. Keras offers already a process to do this, using its ImageDataGenerator object class. The original images are rotated, shifted, zoomed, flipped etc. and by doing this, creating new image mutations.\n",
    "\n",
    "Generator handling according the given Keras example using .flow() functionality together with the already created pre-processed tensors instances. With such tensors rescaling by /255 has already happened. The .flow() command generates batches of randomly transformed images.\n",
    "\n",
    "The generator parameters are set according the image properties, having chest images. E.g. huge zooming would make no sense, but horizontal and vertical flip is fine.\n",
    "\n",
    "In general according augmentation information, have a look to the associated Keras classification [article](https://blog.keras.io/building-powerful-image-classification-models-using-very-little-data.html)."
   ]
  },
  {
   "cell_type": "code",
   "execution_count": 39,
   "metadata": {},
   "outputs": [
    {
     "name": "stdout",
     "output_type": "stream",
     "text": [
      "Epoch 1/15\n",
      " - 386s - loss: 0.2884 - acc: 0.8816 - val_loss: 0.1799 - val_acc: 0.9062\n",
      "\n",
      "Epoch 00001: val_loss improved from inf to 0.17986, saving model to ./saved_models/Adam_base_model_weights.best.withAugmentation.hdf5\n",
      "Epoch 2/15\n",
      " - 306s - loss: 0.2530 - acc: 0.8902 - val_loss: 0.1770 - val_acc: 0.9375\n",
      "\n",
      "Epoch 00002: val_loss improved from 0.17986 to 0.17696, saving model to ./saved_models/Adam_base_model_weights.best.withAugmentation.hdf5\n",
      "Epoch 3/15\n",
      " - 377s - loss: 0.2401 - acc: 0.8994 - val_loss: 0.4004 - val_acc: 0.8125\n",
      "\n",
      "Epoch 00003: val_loss did not improve from 0.17696\n",
      "Epoch 4/15\n",
      " - 361s - loss: 0.2346 - acc: 0.9024 - val_loss: 0.1817 - val_acc: 0.9375\n",
      "\n",
      "Epoch 00004: val_loss did not improve from 0.17696\n",
      "Epoch 5/15\n",
      " - 331s - loss: 0.2374 - acc: 0.8990 - val_loss: 0.3120 - val_acc: 0.8438\n",
      "\n",
      "Epoch 00005: val_loss did not improve from 0.17696\n",
      "Epoch 6/15\n",
      " - 344s - loss: 0.2308 - acc: 0.9056 - val_loss: 0.3500 - val_acc: 0.8438\n",
      "\n",
      "Epoch 00006: val_loss did not improve from 0.17696\n",
      "Epoch 7/15\n",
      " - 310s - loss: 0.2136 - acc: 0.9071 - val_loss: 0.1791 - val_acc: 0.9375\n",
      "\n",
      "Epoch 00007: val_loss did not improve from 0.17696\n",
      "Epoch 8/15\n",
      " - 346s - loss: 0.2164 - acc: 0.9122 - val_loss: 0.2336 - val_acc: 0.9375\n",
      "\n",
      "Epoch 00008: val_loss did not improve from 0.17696\n",
      "Epoch 9/15\n",
      " - 340s - loss: 0.1965 - acc: 0.9185 - val_loss: 0.1495 - val_acc: 1.0000\n",
      "\n",
      "Epoch 00009: val_loss improved from 0.17696 to 0.14953, saving model to ./saved_models/Adam_base_model_weights.best.withAugmentation.hdf5\n",
      "Epoch 10/15\n",
      " - 372s - loss: 0.2010 - acc: 0.9199 - val_loss: 0.2493 - val_acc: 0.8750\n",
      "\n",
      "Epoch 00010: val_loss did not improve from 0.14953\n",
      "Epoch 11/15\n",
      " - 321s - loss: 0.1903 - acc: 0.9236 - val_loss: 0.2919 - val_acc: 0.8750\n",
      "\n",
      "Epoch 00011: val_loss did not improve from 0.14953\n",
      "Epoch 12/15\n",
      " - 373s - loss: 0.1984 - acc: 0.9137 - val_loss: 0.2904 - val_acc: 0.8750\n",
      "\n",
      "Epoch 00012: val_loss did not improve from 0.14953\n",
      "Epoch 13/15\n",
      " - 365s - loss: 0.1777 - acc: 0.9281 - val_loss: 0.2113 - val_acc: 0.9375\n",
      "\n",
      "Epoch 00013: val_loss did not improve from 0.14953\n",
      "Epoch 14/15\n",
      " - 337s - loss: 0.2006 - acc: 0.9208 - val_loss: 0.3011 - val_acc: 0.8750\n",
      "\n",
      "Epoch 00014: val_loss did not improve from 0.14953\n",
      "Epoch 15/15\n",
      " - 367s - loss: 0.1873 - acc: 0.9270 - val_loss: 0.2710 - val_acc: 0.9062\n",
      "\n",
      "Epoch 00015: val_loss did not improve from 0.14953\n"
     ]
    }
   ],
   "source": [
    "# first try with original dataset: 20 because of insights from former models, but has no effect\n",
    "# therefore first try with modified dataset: 15 epochs\n",
    "epochs = 15\n",
    "\n",
    "# use the same generator instance and flow data as before ...\n",
    "# valid_tensors.shape[0] -> original dataset: 16 / 32 = 0.5;  modified dataset: 32 / 32 = 1 \n",
    "Adam_base_model_aug_history = base_model_class.augmentation_train_model(model=adam_base_model,\n",
    "                                  filepath='./saved_models/Adam_base_model_weights.best.withAugmentation.hdf5',\n",
    "                                  training_data=training_data, validation_data=validation_data,\n",
    "                                  epochs=epochs, batch_size=batch_size,\n",
    "                                  train_tensors=train_tensors, valid_tensors=valid_tensors)"
   ]
  },
  {
   "cell_type": "markdown",
   "metadata": {},
   "source": [
    "### Load the Model with the Best Validation Loss"
   ]
  },
  {
   "cell_type": "code",
   "execution_count": 40,
   "metadata": {},
   "outputs": [],
   "source": [
    "base_model_class.load_best_weights(model=adam_base_model,\n",
    "                                   filepath='./saved_models/Adam_base_model_weights.best.withAugmentation.hdf5')"
   ]
  },
  {
   "cell_type": "markdown",
   "metadata": {},
   "source": [
    "### Model Testing"
   ]
  },
  {
   "cell_type": "code",
   "execution_count": 41,
   "metadata": {},
   "outputs": [
    {
     "name": "stdout",
     "output_type": "stream",
     "text": [
      "Base model test accuracy with Adam optimiser and Augmentation: 90.104%\n"
     ]
    }
   ],
   "source": [
    "# get index of pneumonia prediction for each image in test set\n",
    "adam_base_model = base_model_class.get_model()\n",
    "chest_pneumonia_predict_withAdamAug = [np.argmax(adam_base_model.predict(np.expand_dims(tensor, axis=0))) for tensor in test_tensors]\n",
    "\n",
    "# report test accuracy\n",
    "test_acc_withAdamAug = 100*np.sum(np.array(chest_pneumonia_predict_withAdamAug)==np.argmax(test_targets, axis=1))/ \\\n",
    "                                                                       len(chest_pneumonia_predict_withAdamAug)\n",
    "print('Base model test accuracy with Adam optimiser and Augmentation: %.3f%%' % test_acc_withAdamAug)"
   ]
  },
  {
   "cell_type": "markdown",
   "metadata": {},
   "source": [
    "### Metrics of the Model\n",
    "\n",
    "Calculates and shows several metrics of this **basic, augmented model with Adam optimiser**. Start with evaluated classification accuracy for training and testing (must be the same as before, only as a decimal number instead of percentage)."
   ]
  },
  {
   "cell_type": "code",
   "execution_count": 42,
   "metadata": {},
   "outputs": [
    {
     "name": "stdout",
     "output_type": "stream",
     "text": [
      "Accuracy for training and testing of the basic, augmented model with Adam optimiser:\n",
      "Train: 0.941, Test: 0.901\n"
     ]
    }
   ],
   "source": [
    "_, Adam_aug_train_acc = adam_base_model.evaluate(train_tensors, train_targets, verbose=0)  # train X, train y\n",
    "_, Adam_aug_test_acc = adam_base_model.evaluate(test_tensors, test_targets, verbose=0)     # test X, test y\n",
    "print(\"Accuracy for training and testing of the basic, augmented model with Adam optimiser:\")\n",
    "print('Train: %.3f, Test: %.3f' % (Adam_aug_train_acc, Adam_aug_test_acc))"
   ]
  },
  {
   "cell_type": "markdown",
   "metadata": {},
   "source": [
    "#### Accuracy during Training"
   ]
  },
  {
   "cell_type": "code",
   "execution_count": 43,
   "metadata": {},
   "outputs": [
    {
     "data": {
      "image/png": "[encoded data removed]",
      "text/plain": [
       "<Figure size 432x288 with 1 Axes>"
      ]
     },
     "metadata": {
      "needs_background": "light"
     },
     "output_type": "display_data"
    }
   ],
   "source": [
    "show_history_accuracy(Adam_base_model_aug_history)"
   ]
  },
  {
   "cell_type": "markdown",
   "metadata": {},
   "source": [
    "#### Learning during Training"
   ]
  },
  {
   "cell_type": "code",
   "execution_count": 44,
   "metadata": {},
   "outputs": [
    {
     "data": {
      "image/png": "[encoded data removed]",
      "text/plain": [
       "<Figure size 432x288 with 1 Axes>"
      ]
     },
     "metadata": {
      "needs_background": "light"
     },
     "output_type": "display_data"
    }
   ],
   "source": [
    "show_history_loss(Adam_base_model_aug_history)"
   ]
  },
  {
   "cell_type": "markdown",
   "metadata": {},
   "source": [
    "#### Some other Metrics"
   ]
  },
  {
   "cell_type": "code",
   "execution_count": 45,
   "metadata": {},
   "outputs": [
    {
     "name": "stdout",
     "output_type": "stream",
     "text": [
      "Precision: 0.894\n",
      "Recall: 0.957\n",
      "F1 score: 0.925\n",
      "F-beta score: 0.901  with beta=0.5\n",
      "\n",
      "Cohens kappa: 0.781\n",
      "Confusion matrix:\n",
      "[[340  83]\n",
      " [ 31 698]]\n"
     ]
    }
   ],
   "source": [
    "get_other_metrics(test_targets, chest_pneumonia_predict_withAdamAug)"
   ]
  },
  {
   "cell_type": "code",
   "execution_count": 46,
   "metadata": {},
   "outputs": [
    {
     "name": "stdout",
     "output_type": "stream",
     "text": [
      "ROC AUC Pneumonia class prediction of base, augmented model with Adam optimiser: 0.969\n"
     ]
    }
   ],
   "source": [
    "# ROC AUC\n",
    "# predict probabilities for test set\n",
    "yhat_probs = adam_base_model.predict(test_tensors, verbose=0)  # arrays of chest normal and pneumonia probabilities\n",
    "#yhat_probs\n",
    "auc = metrics.roc_auc_score(test_targets[:,1], yhat_probs[:,1]) # pneumonia probability values\n",
    "# auc = metrics.roc_auc_score(test_targets, yhat_probs)\n",
    "print('ROC AUC Pneumonia class prediction of base, augmented model with Adam optimiser: %.3f' % auc)"
   ]
  },
  {
   "cell_type": "code",
   "execution_count": 47,
   "metadata": {},
   "outputs": [
    {
     "name": "stdout",
     "output_type": "stream",
     "text": [
      "--- associated ROC AUC diagram of model type Basic CNN Model with augmentation and Adam optimiser ---\n"
     ]
    },
    {
     "data": {
      "image/png": "[encoded data removed]",
      "text/plain": [
       "<Figure size 432x288 with 1 Axes>"
      ]
     },
     "metadata": {
      "needs_background": "light"
     },
     "output_type": "display_data"
    }
   ],
   "source": [
    "fpr, tpr, threshold = metrics.roc_curve(y_true=test_targets[:,1], y_score=yhat_probs[:,1])\n",
    "# plot ROC Curve using the defined function\n",
    "plot_ROC_AUC(fpr, tpr, \"Basic CNN Model with augmentation and Adam optimiser\")"
   ]
  },
  {
   "cell_type": "markdown",
   "metadata": {},
   "source": [
    "**Note:**<br>\n",
    "Original dataset: Regarding the first try from 2019-07-08:<br>\n",
    "As a whole, augmentation has improved the basic model. All metrics are much higher, its test accuracy improves from 85.256% up to 90.064% and the learning curve decreases fast from epoch 1 to epoch 5.\n",
    "\n",
    "Modified dataset: There is a small improvement with augmentation compared to the first training with Adam optimizer. Its ROC AUC value is the best by now with 0.969."
   ]
  },
  {
   "cell_type": "markdown",
   "metadata": {},
   "source": [
    "<a id='step8'></a>\n",
    "## Step 8: Create an improved CNN Model with Adam\n",
    "\n",
    "Now, we train a model having more hidden layers - a more complex architecture - using Adam as optimiser at once, what kind of result will be calculated compared to the last basic model after having done the augmentation improvement? The Adam optimiser is used for learning with binary crossentropy loss function.\n",
    "\n",
    "Afterwards, we apply the augmentation concept on this improved model and see what kind of performance difference will appear.\n",
    "\n",
    "To know more about improved model architectures the following [paper](https://www.cv-foundation.org/openaccess/content_cvpr_2015/papers/Szegedy_Going_Deeper_With_2015_CVPR_paper.pdf) is available:\n",
    "'Going Deeper with Convolutions'\n",
    "\n",
    "\n",
    "### Model Implementation"
   ]
  },
  {
   "cell_type": "code",
   "execution_count": 48,
   "metadata": {},
   "outputs": [
    {
     "name": "stdout",
     "output_type": "stream",
     "text": [
      "\n",
      "--- Build model summary of Improved_CNN_Model: ---\n",
      "_________________________________________________________________\n",
      "Layer (type)                 Output Shape              Param #   \n",
      "=================================================================\n",
      "conv2d_11 (Conv2D)           (None, 224, 224, 16)      208       \n",
      "_________________________________________________________________\n",
      "max_pooling2d_11 (MaxPooling (None, 112, 112, 16)      0         \n",
      "_________________________________________________________________\n",
      "dropout_11 (Dropout)         (None, 112, 112, 16)      0         \n",
      "_________________________________________________________________\n",
      "conv2d_12 (Conv2D)           (None, 112, 112, 32)      2080      \n",
      "_________________________________________________________________\n",
      "conv2d_13 (Conv2D)           (None, 111, 111, 32)      4128      \n",
      "_________________________________________________________________\n",
      "max_pooling2d_12 (MaxPooling (None, 56, 56, 32)        0         \n",
      "_________________________________________________________________\n",
      "dropout_12 (Dropout)         (None, 56, 56, 32)        0         \n",
      "_________________________________________________________________\n",
      "conv2d_14 (Conv2D)           (None, 56, 56, 64)        8256      \n",
      "_________________________________________________________________\n",
      "conv2d_15 (Conv2D)           (None, 55, 55, 64)        16448     \n",
      "_________________________________________________________________\n",
      "max_pooling2d_13 (MaxPooling (None, 28, 28, 64)        0         \n",
      "_________________________________________________________________\n",
      "dropout_13 (Dropout)         (None, 28, 28, 64)        0         \n",
      "_________________________________________________________________\n",
      "conv2d_16 (Conv2D)           (None, 28, 28, 128)       32896     \n",
      "_________________________________________________________________\n",
      "conv2d_17 (Conv2D)           (None, 27, 27, 128)       65664     \n",
      "_________________________________________________________________\n",
      "max_pooling2d_14 (MaxPooling (None, 14, 14, 128)       0         \n",
      "_________________________________________________________________\n",
      "dropout_14 (Dropout)         (None, 14, 14, 128)       0         \n",
      "_________________________________________________________________\n",
      "conv2d_18 (Conv2D)           (None, 14, 14, 256)       131328    \n",
      "_________________________________________________________________\n",
      "conv2d_19 (Conv2D)           (None, 13, 13, 256)       262400    \n",
      "_________________________________________________________________\n",
      "max_pooling2d_15 (MaxPooling (None, 7, 7, 256)         0         \n",
      "_________________________________________________________________\n",
      "dropout_15 (Dropout)         (None, 7, 7, 256)         0         \n",
      "_________________________________________________________________\n",
      "conv2d_20 (Conv2D)           (None, 7, 7, 512)         524800    \n",
      "_________________________________________________________________\n",
      "conv2d_21 (Conv2D)           (None, 6, 6, 512)         1049088   \n",
      "_________________________________________________________________\n",
      "max_pooling2d_16 (MaxPooling (None, 3, 3, 512)         0         \n",
      "_________________________________________________________________\n",
      "dropout_16 (Dropout)         (None, 3, 3, 512)         0         \n",
      "_________________________________________________________________\n",
      "global_average_pooling2d_3 ( (None, 512)               0         \n",
      "_________________________________________________________________\n",
      "dense_3 (Dense)              (None, 2)                 1026      \n",
      "=================================================================\n",
      "Total params: 2,098,322\n",
      "Trainable params: 2,098,322\n",
      "Non-trainable params: 0\n",
      "_________________________________________________________________\n"
     ]
    }
   ],
   "source": [
    "# Define the improved model architecture.\n",
    "improved_model_class = Model(\"Improved\", \"Improved_CNN_Model\", \"accuracy\")\n",
    "improved_model = improved_model_class.get_model()"
   ]
  },
  {
   "cell_type": "markdown",
   "metadata": {},
   "source": [
    "### Compile the Model"
   ]
  },
  {
   "cell_type": "code",
   "execution_count": 49,
   "metadata": {},
   "outputs": [
    {
     "data": {
      "text/plain": [
       "<models.Improved_CNN_Model.Improved_CNN_Model at 0xbf98055ef0>"
      ]
     },
     "execution_count": 49,
     "metadata": {},
     "output_type": "execute_result"
    }
   ],
   "source": [
    "improved_model_class = improved_model_class.get_class()\n",
    "improved_model_class"
   ]
  },
  {
   "cell_type": "code",
   "execution_count": 50,
   "metadata": {},
   "outputs": [],
   "source": [
    "# first try: use Adam optimiser with same decay as basic model, decay=1e-6 \n",
    "improved_model_class.set_Adam_params()\n",
    "improved_model_class.compile_model(model=improved_model, optimizer='Adam', loss='binary_crossentropy',\n",
    "                                   metrics=['accuracy'])"
   ]
  },
  {
   "cell_type": "markdown",
   "metadata": {},
   "source": [
    "### Train the Model"
   ]
  },
  {
   "cell_type": "code",
   "execution_count": 51,
   "metadata": {},
   "outputs": [
    {
     "name": "stdout",
     "output_type": "stream",
     "text": [
      "Train on 4672 samples, validate on 32 samples\n",
      "Epoch 1/20\n",
      " - 1678s - loss: 0.5423 - acc: 0.7539 - val_loss: 3.5267 - val_acc: 0.5000\n",
      "\n",
      "Epoch 00001: val_loss improved from inf to 3.52669, saving model to ./saved_models/improved_model_weights.best.withAdam.hdf5\n",
      "Epoch 2/20\n",
      " - 1432s - loss: 0.3955 - acc: 0.7832 - val_loss: 0.6680 - val_acc: 0.7188\n",
      "\n",
      "Epoch 00002: val_loss improved from 3.52669 to 0.66795, saving model to ./saved_models/improved_model_weights.best.withAdam.hdf5\n",
      "Epoch 3/20\n",
      " - 1191s - loss: 0.3380 - acc: 0.8519 - val_loss: 0.7651 - val_acc: 0.7500\n",
      "\n",
      "Epoch 00003: val_loss did not improve from 0.66795\n",
      "Epoch 4/20\n",
      " - 1067s - loss: 0.3152 - acc: 0.8555 - val_loss: 0.8775 - val_acc: 0.6250\n",
      "\n",
      "Epoch 00004: val_loss did not improve from 0.66795\n",
      "Epoch 5/20\n",
      " - 1081s - loss: 0.2982 - acc: 0.8677 - val_loss: 0.6901 - val_acc: 0.7500\n",
      "\n",
      "Epoch 00005: val_loss did not improve from 0.66795\n",
      "Epoch 6/20\n",
      " - 973s - loss: 0.2762 - acc: 0.8786 - val_loss: 0.4708 - val_acc: 0.7500\n",
      "\n",
      "Epoch 00006: val_loss improved from 0.66795 to 0.47081, saving model to ./saved_models/improved_model_weights.best.withAdam.hdf5\n",
      "Epoch 7/20\n",
      " - 1145s - loss: 0.2515 - acc: 0.8921 - val_loss: 0.7029 - val_acc: 0.7500\n",
      "\n",
      "Epoch 00007: val_loss did not improve from 0.47081\n",
      "Epoch 8/20\n",
      " - 863s - loss: 0.2042 - acc: 0.9187 - val_loss: 0.4966 - val_acc: 0.8125\n",
      "\n",
      "Epoch 00008: val_loss did not improve from 0.47081\n",
      "Epoch 9/20\n",
      " - 918s - loss: 0.1787 - acc: 0.9253 - val_loss: 0.5161 - val_acc: 0.7500\n",
      "\n",
      "Epoch 00009: val_loss did not improve from 0.47081\n",
      "Epoch 10/20\n",
      " - 931s - loss: 0.1668 - acc: 0.9347 - val_loss: 0.4940 - val_acc: 0.7812\n",
      "\n",
      "Epoch 00010: val_loss did not improve from 0.47081\n",
      "Epoch 11/20\n",
      " - 974s - loss: 0.1389 - acc: 0.9469 - val_loss: 0.4348 - val_acc: 0.8438\n",
      "\n",
      "Epoch 00011: val_loss improved from 0.47081 to 0.43483, saving model to ./saved_models/improved_model_weights.best.withAdam.hdf5\n",
      "Epoch 12/20\n",
      " - 977s - loss: 0.1291 - acc: 0.9506 - val_loss: 0.2051 - val_acc: 0.9375\n",
      "\n",
      "Epoch 00012: val_loss improved from 0.43483 to 0.20512, saving model to ./saved_models/improved_model_weights.best.withAdam.hdf5\n",
      "Epoch 13/20\n",
      " - 1104s - loss: 0.1014 - acc: 0.9604 - val_loss: 0.2745 - val_acc: 0.8750\n",
      "\n",
      "Epoch 00013: val_loss did not improve from 0.20512\n",
      "Epoch 14/20\n",
      " - 1234s - loss: 0.0993 - acc: 0.9587 - val_loss: 0.3025 - val_acc: 0.8438\n",
      "\n",
      "Epoch 00014: val_loss did not improve from 0.20512\n",
      "Epoch 15/20\n",
      " - 968s - loss: 0.0952 - acc: 0.9610 - val_loss: 0.0633 - val_acc: 0.9688\n",
      "\n",
      "Epoch 00015: val_loss improved from 0.20512 to 0.06334, saving model to ./saved_models/improved_model_weights.best.withAdam.hdf5\n",
      "Epoch 16/20\n",
      " - 925s - loss: 0.0861 - acc: 0.9688 - val_loss: 0.0761 - val_acc: 0.9688\n",
      "\n",
      "Epoch 00016: val_loss did not improve from 0.06334\n",
      "Epoch 17/20\n",
      " - 1007s - loss: 0.0788 - acc: 0.9685 - val_loss: 0.2515 - val_acc: 0.9062\n",
      "\n",
      "Epoch 00017: val_loss did not improve from 0.06334\n",
      "Epoch 18/20\n",
      " - 999s - loss: 0.0891 - acc: 0.9649 - val_loss: 0.2631 - val_acc: 0.9062\n",
      "\n",
      "Epoch 00018: val_loss did not improve from 0.06334\n",
      "Epoch 19/20\n",
      " - 1009s - loss: 0.0793 - acc: 0.9700 - val_loss: 0.0837 - val_acc: 0.9375\n",
      "\n",
      "Epoch 00019: val_loss did not improve from 0.06334\n",
      "Epoch 20/20\n",
      " - 1060s - loss: 0.0691 - acc: 0.9745 - val_loss: 0.0923 - val_acc: 0.9375\n",
      "\n",
      "Epoch 00020: val_loss did not improve from 0.06334\n"
     ]
    }
   ],
   "source": [
    "epochs = 20   # first try: epochs 20\n",
    "batch_size = 32\n",
    "improved_model_adam = improved_model_class.get_model()\n",
    "improved_model_history = improved_model_class.train_model(model=improved_model_adam,\n",
    "                                           epochs=epochs, batch_size=batch_size,\n",
    "                                           filepath='./saved_models/improved_model_weights.best.withAdam.hdf5',\n",
    "                                           train_tensors=train_tensors, train_targets=train_targets,\n",
    "                                           valid_tensors=valid_tensors, valid_targets=valid_targets)"
   ]
  },
  {
   "cell_type": "markdown",
   "metadata": {},
   "source": [
    "### Load the Model with the Best Validation Loss"
   ]
  },
  {
   "cell_type": "code",
   "execution_count": 52,
   "metadata": {},
   "outputs": [],
   "source": [
    "improved_model_class.load_best_weights(model=improved_model_adam,\n",
    "                                       filepath='./saved_models/improved_model_weights.best.withAdam.hdf5')"
   ]
  },
  {
   "cell_type": "code",
   "execution_count": 53,
   "metadata": {},
   "outputs": [],
   "source": [
    "# plot the improved model to a file and store it for further usage\n",
    "plot_model(improved_model_adam, to_file='./saved_models/improved_model_withAdam.png')"
   ]
  },
  {
   "cell_type": "markdown",
   "metadata": {},
   "source": [
    "### Model Testing"
   ]
  },
  {
   "cell_type": "code",
   "execution_count": 54,
   "metadata": {},
   "outputs": [
    {
     "name": "stdout",
     "output_type": "stream",
     "text": [
      "Improved model test accuracy with Adam optimiser: 88.542%\n"
     ]
    }
   ],
   "source": [
    "# get index of pneumonia prediction for each image in test set\n",
    "improved_model_adam = improved_model_class.get_model()\n",
    "chest_pneumonia_predict_impr_adam = [np.argmax(improved_model_adam.predict(np.expand_dims(tensor, axis=0))) for tensor in test_tensors]\n",
    "\n",
    "# report test accuracy\n",
    "test_acc_impr_adam = 100*np.sum(np.array(chest_pneumonia_predict_impr_adam)==np.argmax(test_targets, axis=1))/ \\\n",
    "                                                                    len(chest_pneumonia_predict_impr_adam)\n",
    "print('Improved model test accuracy with Adam optimiser: %.3f%%' % test_acc_impr_adam)"
   ]
  },
  {
   "cell_type": "markdown",
   "metadata": {},
   "source": [
    "### Metrics of the Model\n",
    "\n",
    "Calculates and shows several metrics of this **improved model with Adam optimiser**."
   ]
  },
  {
   "cell_type": "code",
   "execution_count": 55,
   "metadata": {},
   "outputs": [
    {
     "name": "stdout",
     "output_type": "stream",
     "text": [
      "Accuracy for training and testing of the improved model with Adam optimiser:\n",
      "Train: 0.975, Test: 0.885\n"
     ]
    }
   ],
   "source": [
    "_, improved_train_acc_adam = improved_model_adam.evaluate(train_tensors, train_targets, verbose=0)  # train X, train y\n",
    "_, improved_test_acc_adam = improved_model_adam.evaluate(test_tensors, test_targets, verbose=0)     # test X, test y\n",
    "print(\"Accuracy for training and testing of the improved model with Adam optimiser:\")\n",
    "print('Train: %.3f, Test: %.3f' % (improved_train_acc_adam, improved_test_acc_adam))"
   ]
  },
  {
   "cell_type": "markdown",
   "metadata": {},
   "source": [
    "#### Accuracy during Training\n",
    "\n",
    "Show the history diagram for epochs and associated accuracy results ..."
   ]
  },
  {
   "cell_type": "code",
   "execution_count": 56,
   "metadata": {},
   "outputs": [
    {
     "data": {
      "image/png": "[encoded data removed]",
      "text/plain": [
       "<Figure size 432x288 with 1 Axes>"
      ]
     },
     "metadata": {
      "needs_background": "light"
     },
     "output_type": "display_data"
    }
   ],
   "source": [
    "show_history_accuracy(improved_model_history)"
   ]
  },
  {
   "cell_type": "markdown",
   "metadata": {},
   "source": [
    "#### Learning during Training"
   ]
  },
  {
   "cell_type": "code",
   "execution_count": 57,
   "metadata": {},
   "outputs": [
    {
     "data": {
      "image/png": "[encoded data removed]",
      "text/plain": [
       "<Figure size 432x288 with 1 Axes>"
      ]
     },
     "metadata": {
      "needs_background": "light"
     },
     "output_type": "display_data"
    }
   ],
   "source": [
    "show_history_loss(improved_model_history)"
   ]
  },
  {
   "cell_type": "markdown",
   "metadata": {},
   "source": [
    "#### Some other Metrics"
   ]
  },
  {
   "cell_type": "code",
   "execution_count": 58,
   "metadata": {},
   "outputs": [
    {
     "name": "stdout",
     "output_type": "stream",
     "text": [
      "Precision: 0.865\n",
      "Recall: 0.970\n",
      "F1 score: 0.915\n",
      "F-beta score: 0.886  with beta=0.5\n",
      "\n",
      "Cohens kappa: 0.742\n",
      "Confusion matrix:\n",
      "[[313 110]\n",
      " [ 22 707]]\n"
     ]
    }
   ],
   "source": [
    "get_other_metrics(test_targets, chest_pneumonia_predict_impr_adam)"
   ]
  },
  {
   "cell_type": "code",
   "execution_count": 59,
   "metadata": {},
   "outputs": [
    {
     "name": "stdout",
     "output_type": "stream",
     "text": [
      "ROC AUC Pneumonia class prediction of improved model with Adam optimiser: 0.937\n"
     ]
    }
   ],
   "source": [
    "# ROC AUC\n",
    "# predict probabilities for test set\n",
    "yhat_probs = improved_model_adam.predict(test_tensors, verbose=0)  # arrays of chest normal and pneumonia probabilities\n",
    "#yhat_probs\n",
    "auc = metrics.roc_auc_score(test_targets[:,1], yhat_probs[:,1]) # pneumonia probability values\n",
    "# auc = metrics.roc_auc_score(test_targets, yhat_probs)\n",
    "print('ROC AUC Pneumonia class prediction of improved model with Adam optimiser: %.3f' % auc)"
   ]
  },
  {
   "cell_type": "code",
   "execution_count": 60,
   "metadata": {},
   "outputs": [
    {
     "name": "stdout",
     "output_type": "stream",
     "text": [
      "--- associated ROC AUC diagram of model type Improved CNN Model with Adam optimiser ---\n"
     ]
    },
    {
     "data": {
      "image/png": "[encoded data removed]",
      "text/plain": [
       "<Figure size 432x288 with 1 Axes>"
      ]
     },
     "metadata": {
      "needs_background": "light"
     },
     "output_type": "display_data"
    }
   ],
   "source": [
    "fpr, tpr, threshold = metrics.roc_curve(y_true=test_targets[:,1], y_score=yhat_probs[:,1])\n",
    "# plot ROC Curve using the defined function\n",
    "plot_ROC_AUC(fpr, tpr, \"Improved CNN Model with Adam optimiser\")"
   ]
  },
  {
   "cell_type": "markdown",
   "metadata": {},
   "source": [
    "**Note:**<br>\n",
    "......"
   ]
  },
  {
   "cell_type": "markdown",
   "metadata": {},
   "source": [
    "<a id='step9'></a>\n",
    "## Step 9:  Last improved CNN Model with Augmentation"
   ]
  },
  {
   "cell_type": "markdown",
   "metadata": {},
   "source": [
    "### Training with Augmentation"
   ]
  },
  {
   "cell_type": "code",
   "execution_count": 62,
   "metadata": {},
   "outputs": [
    {
     "name": "stdout",
     "output_type": "stream",
     "text": [
      "Epoch 1/20\n",
      " - 1243s - loss: 0.3063 - acc: 0.8639 - val_loss: 0.1681 - val_acc: 0.9375\n",
      "\n",
      "Epoch 00001: val_loss improved from inf to 0.16806, saving model to ./saved_models/improved_model_weights.best.withAugmentation.hdf5\n",
      "Epoch 2/20\n",
      " - 859s - loss: 0.2502 - acc: 0.8928 - val_loss: 0.2530 - val_acc: 0.9062\n",
      "\n",
      "Epoch 00002: val_loss did not improve from 0.16806\n",
      "Epoch 3/20\n",
      " - 934s - loss: 0.2606 - acc: 0.8842 - val_loss: 0.1943 - val_acc: 0.9688\n",
      "\n",
      "Epoch 00003: val_loss did not improve from 0.16806\n",
      "Epoch 4/20\n",
      " - 741s - loss: 0.2487 - acc: 0.8911 - val_loss: 0.2155 - val_acc: 0.9375\n",
      "\n",
      "Epoch 00004: val_loss did not improve from 0.16806\n",
      "Epoch 5/20\n",
      " - 1048s - loss: 0.2215 - acc: 0.9035 - val_loss: 0.2706 - val_acc: 0.8750\n",
      "\n",
      "Epoch 00005: val_loss did not improve from 0.16806\n",
      "Epoch 6/20\n",
      " - 1244s - loss: 0.2367 - acc: 0.9033 - val_loss: 0.1709 - val_acc: 0.9688\n",
      "\n",
      "Epoch 00006: val_loss did not improve from 0.16806\n",
      "Epoch 7/20\n",
      " - 1188s - loss: 0.2217 - acc: 0.9075 - val_loss: 0.2487 - val_acc: 0.9062\n",
      "\n",
      "Epoch 00007: val_loss did not improve from 0.16806\n",
      "Epoch 8/20\n",
      " - 1063s - loss: 0.2043 - acc: 0.9116 - val_loss: 0.3283 - val_acc: 0.8750\n",
      "\n",
      "Epoch 00008: val_loss did not improve from 0.16806\n",
      "Epoch 9/20\n",
      " - 966s - loss: 0.2068 - acc: 0.9159 - val_loss: 0.1863 - val_acc: 0.9375\n",
      "\n",
      "Epoch 00009: val_loss did not improve from 0.16806\n",
      "Epoch 10/20\n",
      " - 964s - loss: 0.2035 - acc: 0.9193 - val_loss: 0.1822 - val_acc: 0.9062\n",
      "\n",
      "Epoch 00010: val_loss did not improve from 0.16806\n",
      "Epoch 11/20\n",
      " - 1118s - loss: 0.1987 - acc: 0.9217 - val_loss: 0.1977 - val_acc: 0.9375\n",
      "\n",
      "Epoch 00011: val_loss did not improve from 0.16806\n",
      "Epoch 12/20\n",
      " - 671s - loss: 0.1926 - acc: 0.9212 - val_loss: 0.1775 - val_acc: 0.9688\n",
      "\n",
      "Epoch 00012: val_loss did not improve from 0.16806\n",
      "Epoch 13/20\n",
      " - 720s - loss: 0.1772 - acc: 0.9292 - val_loss: 0.1720 - val_acc: 0.9062\n",
      "\n",
      "Epoch 00013: val_loss did not improve from 0.16806\n",
      "Epoch 14/20\n",
      " - 849s - loss: 0.1817 - acc: 0.9287 - val_loss: 0.2214 - val_acc: 0.9375\n",
      "\n",
      "Epoch 00014: val_loss did not improve from 0.16806\n",
      "Epoch 15/20\n",
      " - 848s - loss: 0.1749 - acc: 0.9292 - val_loss: 0.3209 - val_acc: 0.8438\n",
      "\n",
      "Epoch 00015: val_loss did not improve from 0.16806\n",
      "Epoch 16/20\n",
      " - 889s - loss: 0.1764 - acc: 0.9262 - val_loss: 0.0856 - val_acc: 1.0000\n",
      "\n",
      "Epoch 00016: val_loss improved from 0.16806 to 0.08559, saving model to ./saved_models/improved_model_weights.best.withAugmentation.hdf5\n",
      "Epoch 17/20\n",
      " - 776s - loss: 0.1690 - acc: 0.9307 - val_loss: 0.1018 - val_acc: 0.9375\n",
      "\n",
      "Epoch 00017: val_loss did not improve from 0.08559\n",
      "Epoch 18/20\n",
      " - 973s - loss: 0.1625 - acc: 0.9366 - val_loss: 0.2238 - val_acc: 0.8750\n",
      "\n",
      "Epoch 00018: val_loss did not improve from 0.08559\n",
      "Epoch 19/20\n",
      " - 979s - loss: 0.1543 - acc: 0.9396 - val_loss: 0.2167 - val_acc: 0.8750\n",
      "\n",
      "Epoch 00019: val_loss did not improve from 0.08559\n",
      "Epoch 20/20\n",
      " - 856s - loss: 0.1707 - acc: 0.9317 - val_loss: 0.2173 - val_acc: 0.9375\n",
      "\n",
      "Epoch 00020: val_loss did not improve from 0.08559\n"
     ]
    }
   ],
   "source": [
    "epochs = 20\n",
    "batch_size = 32\n",
    "# generator and generator flow data, training and validation data are the same as before\n",
    "improved_model_aug_history = improved_model_class.augmentation_train_model(model=improved_model,\n",
    "                                filepath='./saved_models/improved_model_weights.best.withAugmentation.hdf5', \n",
    "                                training_data=training_data, validation_data=validation_data,\n",
    "                                epochs=epochs, batch_size=batch_size,\n",
    "                                train_tensors=train_tensors, valid_tensors=valid_tensors)"
   ]
  },
  {
   "cell_type": "markdown",
   "metadata": {},
   "source": [
    "### Load the Model with the Best Validation Loss"
   ]
  },
  {
   "cell_type": "code",
   "execution_count": 63,
   "metadata": {},
   "outputs": [],
   "source": [
    "improved_model_class.load_best_weights(model=improved_model,\n",
    "                                  filepath='./saved_models/improved_model_weights.best.withAugmentation.hdf5')"
   ]
  },
  {
   "cell_type": "markdown",
   "metadata": {},
   "source": [
    "### Improved Model Testing"
   ]
  },
  {
   "cell_type": "code",
   "execution_count": 64,
   "metadata": {},
   "outputs": [
    {
     "name": "stdout",
     "output_type": "stream",
     "text": [
      "Improved model test accuracy with Adam optimiser and Augmentation: 92.622%\n"
     ]
    }
   ],
   "source": [
    "# get index of pneumonia prediction for each image in test set\n",
    "improved_model = improved_model_class.get_model()\n",
    "improved_chest_pneumonia_predict_aug = [np.argmax(improved_model.predict(np.expand_dims(tensor, axis=0))) for tensor in test_tensors]\n",
    "\n",
    "# report test accuracy\n",
    "improved_test_acc = 100*np.sum(np.array(improved_chest_pneumonia_predict_aug)==np.argmax(test_targets, axis=1))/ \\\n",
    "                                                                            len(improved_chest_pneumonia_predict_aug)\n",
    "print('Improved model test accuracy with Adam optimiser and Augmentation: %.3f%%' % improved_test_acc)"
   ]
  },
  {
   "cell_type": "markdown",
   "metadata": {},
   "source": [
    "### Metrics of the Model\n",
    "\n",
    "Calculates and shows several metrics of this **improved, augmented model with Adam optimiser**. Start with evaluated classification accuracy for training and testing (must be the same as before, only as a decimal number instead of percentage)."
   ]
  },
  {
   "cell_type": "code",
   "execution_count": 65,
   "metadata": {},
   "outputs": [
    {
     "name": "stdout",
     "output_type": "stream",
     "text": [
      "Accuracy for training and testing of the improved, augmented model with Adam optimiser:\n",
      "Train: 0.937, Test: 0.926\n"
     ]
    }
   ],
   "source": [
    "_, improved_train_acc = improved_model.evaluate(train_tensors, train_targets, verbose=0)  # train X, train y\n",
    "_, improved_test_acc = improved_model.evaluate(test_tensors, test_targets, verbose=0)     # test X, test y\n",
    "print(\"Accuracy for training and testing of the improved, augmented model with Adam optimiser:\")\n",
    "print('Train: %.3f, Test: %.3f' % (improved_train_acc, improved_test_acc))"
   ]
  },
  {
   "cell_type": "markdown",
   "metadata": {},
   "source": [
    "#### Accuracy during Training\n",
    "\n",
    "Show the history diagram for epochs and associated accuracy results ..."
   ]
  },
  {
   "cell_type": "code",
   "execution_count": 66,
   "metadata": {},
   "outputs": [
    {
     "data": {
      "image/png": "[encoded data removed]",
      "text/plain": [
       "<Figure size 432x288 with 1 Axes>"
      ]
     },
     "metadata": {
      "needs_background": "light"
     },
     "output_type": "display_data"
    }
   ],
   "source": [
    "show_history_accuracy(improved_model_aug_history)"
   ]
  },
  {
   "cell_type": "markdown",
   "metadata": {},
   "source": [
    "#### Learning during Training"
   ]
  },
  {
   "cell_type": "code",
   "execution_count": 67,
   "metadata": {},
   "outputs": [
    {
     "data": {
      "image/png": "[encoded data removed]",
      "text/plain": [
       "<Figure size 432x288 with 1 Axes>"
      ]
     },
     "metadata": {
      "needs_background": "light"
     },
     "output_type": "display_data"
    }
   ],
   "source": [
    "show_history_loss(improved_model_aug_history)"
   ]
  },
  {
   "cell_type": "markdown",
   "metadata": {},
   "source": [
    "#### Some other Metrics"
   ]
  },
  {
   "cell_type": "code",
   "execution_count": 69,
   "metadata": {},
   "outputs": [
    {
     "name": "stdout",
     "output_type": "stream",
     "text": [
      "Precision: 0.946\n",
      "Recall: 0.937\n",
      "F1 score: 0.941\n",
      "F-beta score: 0.926  with beta=0.5\n",
      "\n",
      "Cohens kappa: 0.842\n",
      "Confusion matrix:\n",
      "[[384  39]\n",
      " [ 46 683]]\n"
     ]
    }
   ],
   "source": [
    "get_other_metrics(test_targets, improved_chest_pneumonia_predict_aug)"
   ]
  },
  {
   "cell_type": "code",
   "execution_count": 70,
   "metadata": {},
   "outputs": [
    {
     "name": "stdout",
     "output_type": "stream",
     "text": [
      "ROC AUC Pneumonia class prediction of improved, augmented model with Adam optimiser: 0.977\n"
     ]
    }
   ],
   "source": [
    "# ROC AUC\n",
    "# predict probabilities for test set\n",
    "yhat_probs = improved_model.predict(test_tensors, verbose=0)  # arrays of chest normal and pneumonia probabilities\n",
    "#yhat_probs\n",
    "auc = metrics.roc_auc_score(test_targets[:,1], yhat_probs[:,1]) # pneumonia probability values\n",
    "# auc = metrics.roc_auc_score(test_targets, yhat_probs)\n",
    "print('ROC AUC Pneumonia class prediction of improved, augmented model with Adam optimiser: %.3f' % auc)"
   ]
  },
  {
   "cell_type": "code",
   "execution_count": 71,
   "metadata": {},
   "outputs": [
    {
     "name": "stdout",
     "output_type": "stream",
     "text": [
      "--- associated ROC AUC diagram of model type Improved CNN Model with augmentation and Adam optimiser ---\n"
     ]
    },
    {
     "data": {
      "image/png": "[encoded data removed]",
      "text/plain": [
       "<Figure size 432x288 with 1 Axes>"
      ]
     },
     "metadata": {
      "needs_background": "light"
     },
     "output_type": "display_data"
    }
   ],
   "source": [
    "fpr, tpr, threshold = metrics.roc_curve(y_true=test_targets[:,1], y_score=yhat_probs[:,1])\n",
    "# plot ROC Curve using the defined function\n",
    "plot_ROC_AUC(fpr, tpr, \"Improved CNN Model with augmentation and Adam optimiser\")"
   ]
  },
  {
   "cell_type": "markdown",
   "metadata": {},
   "source": [
    "**Note:**<br>\n",
    "......."
   ]
  },
  {
   "cell_type": "markdown",
   "metadata": {},
   "source": [
    "<a id='step10'></a>\n",
    "## Step 10: Create a Batch CNN Model from the Scratch\n",
    "\n",
    "### Model Implementation and Compilation\n",
    "\n",
    "Start creating a CNN model with some BatchNormalization and Dropout layers as hidden layers.<br>\n",
    "As optimiser **Adam** is used with **binary_crossentropy** as loss (learning) function and for classification, default metric **accuracy** has been selected. "
   ]
  },
  {
   "cell_type": "code",
   "execution_count": 11,
   "metadata": {},
   "outputs": [
    {
     "name": "stdout",
     "output_type": "stream",
     "text": [
      "WARNING:tensorflow:From C:\\anaconda\\anaconda3\\lib\\site-packages\\tensorflow\\python\\framework\\op_def_library.py:263: colocate_with (from tensorflow.python.framework.ops) is deprecated and will be removed in a future version.\n",
      "Instructions for updating:\n",
      "Colocations handled automatically by placer.\n",
      "\n",
      "--- Build model summary of Batch_Model: ---\n",
      "_________________________________________________________________\n",
      "Layer (type)                 Output Shape              Param #   \n",
      "=================================================================\n",
      "conv2d_1 (Conv2D)            (None, 224, 224, 32)      416       \n",
      "_________________________________________________________________\n",
      "batch_normalization_1 (Batch (None, 224, 224, 32)      128       \n",
      "_________________________________________________________________\n",
      "activation_1 (Activation)    (None, 224, 224, 32)      0         \n",
      "_________________________________________________________________\n",
      "conv2d_2 (Conv2D)            (None, 224, 224, 64)      8256      \n",
      "_________________________________________________________________\n",
      "conv2d_3 (Conv2D)            (None, 223, 223, 64)      16448     \n",
      "_________________________________________________________________\n",
      "batch_normalization_2 (Batch (None, 223, 223, 64)      256       \n",
      "_________________________________________________________________\n",
      "activation_2 (Activation)    (None, 223, 223, 64)      0         \n",
      "_________________________________________________________________\n",
      "conv2d_4 (Conv2D)            (None, 223, 223, 128)     32896     \n",
      "_________________________________________________________________\n",
      "conv2d_5 (Conv2D)            (None, 222, 222, 128)     65664     \n",
      "_________________________________________________________________\n",
      "batch_normalization_3 (Batch (None, 222, 222, 128)     512       \n",
      "_________________________________________________________________\n",
      "activation_3 (Activation)    (None, 222, 222, 128)     0         \n",
      "_________________________________________________________________\n",
      "conv2d_6 (Conv2D)            (None, 222, 222, 256)     131328    \n",
      "_________________________________________________________________\n",
      "conv2d_7 (Conv2D)            (None, 221, 221, 256)     262400    \n",
      "_________________________________________________________________\n",
      "batch_normalization_4 (Batch (None, 221, 221, 256)     1024      \n",
      "_________________________________________________________________\n",
      "activation_4 (Activation)    (None, 221, 221, 256)     0         \n",
      "_________________________________________________________________\n",
      "conv2d_8 (Conv2D)            (None, 221, 221, 512)     524800    \n",
      "_________________________________________________________________\n",
      "conv2d_9 (Conv2D)            (None, 220, 220, 512)     1049088   \n",
      "_________________________________________________________________\n",
      "conv2d_10 (Conv2D)           (None, 219, 219, 512)     1049088   \n",
      "_________________________________________________________________\n",
      "batch_normalization_5 (Batch (None, 219, 219, 512)     2048      \n",
      "_________________________________________________________________\n",
      "activation_5 (Activation)    (None, 219, 219, 512)     0         \n",
      "_________________________________________________________________\n",
      "global_average_pooling2d_1 ( (None, 512)               0         \n",
      "_________________________________________________________________\n",
      "batch_normalization_6 (Batch (None, 512)               2048      \n",
      "_________________________________________________________________\n",
      "dense_1 (Dense)              (None, 2)                 1026      \n",
      "=================================================================\n",
      "Total params: 3,147,426\n",
      "Trainable params: 3,144,418\n",
      "Non-trainable params: 3,008\n",
      "_________________________________________________________________\n"
     ]
    },
    {
     "data": {
      "text/plain": [
       "<models.Batch_CNN_Model.Batch_CNN_Model at 0x888514cba8>"
      ]
     },
     "execution_count": 11,
     "metadata": {},
     "output_type": "execute_result"
    }
   ],
   "source": [
    "batch_model_class = Model(\"Batch\", \"Batch_CNN_Model\", \"accuracy\")\n",
    "batch_model = batch_model_class.get_model()\n",
    "batch_model_class = batch_model_class.get_class()\n",
    "batch_model_class"
   ]
  },
  {
   "cell_type": "code",
   "execution_count": 12,
   "metadata": {},
   "outputs": [],
   "source": [
    "# let's train the model using Adam with decay 1e-6 for each learning update\n",
    "batch_model_class.set_Adam_params()\n",
    "batch_model_class.compile_model(model= batch_model, loss='binary_crossentropy', optimizer='Adam', metrics=['accuracy'])"
   ]
  },
  {
   "cell_type": "markdown",
   "metadata": {},
   "source": [
    "### Train the Model\n",
    "Model training with use of checkpointing to save the model that attains the best validation loss. The same **epochs** and **batch_size** hyperparameter values are used. Now using BatchNormalization, batch_size has to be 32, because small values will decrease the classification performance."
   ]
  },
  {
   "cell_type": "code",
   "execution_count": null,
   "metadata": {},
   "outputs": [
    {
     "name": "stdout",
     "output_type": "stream",
     "text": [
      "WARNING:tensorflow:From C:\\anaconda\\anaconda3\\lib\\site-packages\\tensorflow\\python\\ops\\math_ops.py:3066: to_int32 (from tensorflow.python.ops.math_ops) is deprecated and will be removed in a future version.\n",
      "Instructions for updating:\n",
      "Use tf.cast instead.\n",
      "Train on 4672 samples, validate on 32 samples\n",
      "Epoch 1/20\n"
     ]
    }
   ],
   "source": [
    "epochs = 20\n",
    "batch_size = 32\n",
    "batch_model_history = batch_model_class.train_model(model=batch_model,\n",
    "                                              filepath='./saved_models/weights.best.from_scratch_batch.hdf5',\n",
    "                                              train_tensors=train_tensors, train_targets=train_targets,\n",
    "                                              valid_tensors=valid_tensors, valid_targets=valid_targets,\n",
    "                                              epochs=epochs, batch_size=batch_size)"
   ]
  },
  {
   "cell_type": "markdown",
   "metadata": {},
   "source": [
    "### Load the Model with the Best Validation Loss"
   ]
  },
  {
   "cell_type": "code",
   "execution_count": null,
   "metadata": {},
   "outputs": [],
   "source": [
    "batch_model_class.load_best_weights(model=batch_model, filepath='./saved_models/weights.best.from_scratch_batch.hdf5')"
   ]
  },
  {
   "cell_type": "code",
   "execution_count": null,
   "metadata": {},
   "outputs": [],
   "source": [
    "# plot the batch model to a file and store it for further usage\n",
    "plot_model(batch_model, to_file='./saved_models/batch_model.png')"
   ]
  },
  {
   "cell_type": "markdown",
   "metadata": {},
   "source": [
    "### Batch Model Testing"
   ]
  },
  {
   "cell_type": "code",
   "execution_count": null,
   "metadata": {},
   "outputs": [],
   "source": [
    "# get index of pneumonia prediction for each image in test set\n",
    "batch_model = batch_model_class.get_model()\n",
    "batch_chest_pneumonia_predict = [np.argmax(batch_model.predict(np.expand_dims(tensor, axis=0))) for tensor in test_tensors]\n",
    "\n",
    "# report test accuracy\n",
    "batch_test_acc = 100*np.sum(np.array(batch_chest_pneumonia_predict)==np.argmax(test_targets, axis=1))/ \\\n",
    "                                                                            len(batch_chest_pneumonia_predict)\n",
    "print('Batch model test accuracy with Adam optimiser: %.3f%%' % batch_test_acc)"
   ]
  },
  {
   "cell_type": "markdown",
   "metadata": {},
   "source": [
    "### Metrics of the Model"
   ]
  },
  {
   "cell_type": "code",
   "execution_count": null,
   "metadata": {},
   "outputs": [],
   "source": [
    "_, batch_train_acc = batch_model.evaluate(train_tensors, train_targets, verbose=0)  # train X, train y\n",
    "_, batch_test_acc = batch_model.evaluate(test_tensors, test_targets, verbose=0)     # test X, test y\n",
    "print(\"Accuracy for training and testing of the batch model with Adam optimiser:\")\n",
    "print('Train: %.3f, Test: %.3f' % (batch_train_acc, batch_test_acc))"
   ]
  },
  {
   "cell_type": "markdown",
   "metadata": {},
   "source": [
    "#### Accuracy during Training\n",
    "\n",
    "Show the history diagram for epochs and associated accuracy results ..."
   ]
  },
  {
   "cell_type": "code",
   "execution_count": null,
   "metadata": {},
   "outputs": [],
   "source": [
    "show_history_accuracy(batch_model_history)"
   ]
  },
  {
   "cell_type": "markdown",
   "metadata": {},
   "source": [
    "#### Learning during Training"
   ]
  },
  {
   "cell_type": "code",
   "execution_count": null,
   "metadata": {},
   "outputs": [],
   "source": [
    "show_history_loss(batch_model_history)"
   ]
  },
  {
   "cell_type": "markdown",
   "metadata": {},
   "source": [
    "#### Some other Metrics"
   ]
  },
  {
   "cell_type": "code",
   "execution_count": null,
   "metadata": {},
   "outputs": [],
   "source": [
    "get_other_metrics(test_targets, batch_model_history)"
   ]
  },
  {
   "cell_type": "code",
   "execution_count": null,
   "metadata": {},
   "outputs": [],
   "source": [
    "# ROC AUC\n",
    "# predict probabilities for test set\n",
    "yhat_probs = batch_model.predict(test_tensors, verbose=0)  # arrays of chest normal and pneumonia probabilities\n",
    "#yhat_probs\n",
    "auc = metrics.roc_auc_score(test_targets[:,1], yhat_probs[:,1]) # pneumonia probability values\n",
    "print('ROC AUC Pneumonia class prediction of batch model with Adam optimiser: %.3f' % auc)"
   ]
  },
  {
   "cell_type": "code",
   "execution_count": null,
   "metadata": {},
   "outputs": [],
   "source": [
    "fpr, tpr, threshold = metrics.roc_curve(y_true=test_targets[:,1], y_score=yhat_probs[:,1])\n",
    "# plot ROC Curve using the defined function\n",
    "plot_ROC_AUC(fpr, tpr, \"CNN Model with BatchNormalization and Adam optimiser\")"
   ]
  },
  {
   "cell_type": "markdown",
   "metadata": {},
   "source": [
    "**Note:**<br>\n",
    "......"
   ]
  },
  {
   "cell_type": "markdown",
   "metadata": {},
   "source": [
    "<a id='step11'></a>\n",
    "## Step 11: Create a CNN Model with Transfer Learning\n",
    "\n",
    "As sense of transfer learning, Goodfellow et al mentioned in their 'Deep Learning' book \"Situation where what has been learned in one setting is exploited to improve generalization in another setting.\"\n",
    "\n",
    "We don't have a huge dataset for the given pneumonia classification and more generalised, even not for all human age and X-ray orientation categories. The existing dataset is a specific one for a specific task, therefore we need technical help to improve the classification performance having a good, proper learning result, especially thinking at the 'new, available' image examples of the future.\n",
    "\n",
    "With a pre-trained model, now, we use its knowledge even from another domain and task (like for image tasks an ImageNet database pre-trained model), to let our network learn the new problem. This knowledge transfer is possible, because all images share some same features, like edges or shapes.\n",
    "\n",
    "Technically, how to do this is e.g. explained in the Keras [documentation](https://blog.keras.io/building-powerful-image-classification-models-using-very-little-data.html), chapter part 'Fine-tuning the top layers of a a pre-trained network'.\n",
    "\n",
    "\n",
    "### Model Implementation and Compilation\n"
   ]
  },
  {
   "cell_type": "code",
   "execution_count": null,
   "metadata": {},
   "outputs": [],
   "source": [
    "# As pre-trained CNN InceptionV3 is selected\n",
    "bottleneck_features = np.load('bottleneck_features/ChestInceptionV3Data.npz')\n",
    "train_inceptV3 = bottleneck_features['train']\n",
    "valid_inceptV3 = bottleneck_features['val']\n",
    "test_inceptV3 = bottleneck_features['test']"
   ]
  },
  {
   "cell_type": "code",
   "execution_count": null,
   "metadata": {},
   "outputs": [],
   "source": [
    "inceptV3_model_class = Model(\"Transfer\", \"Transfer_CNN_Model\", \"accuracy\", train_inceptV3)\n",
    "inceptV3_model = batch_model_class.get_model()\n",
    "inceptV3_model_class = inceptV3_model.get_class()\n",
    "inceptV3_model_class"
   ]
  },
  {
   "cell_type": "code",
   "execution_count": null,
   "metadata": {},
   "outputs": [],
   "source": [
    "# let's train the model using Adam with decay 1e-6 for each learning update\n",
    "inceptV3_model_class.set_Adam_params()\n",
    "inceptV3_model_class.compile_model(model= inceptV3_model, loss='binary_crossentropy', optimizer='Adam', metrics=['accuracy'])"
   ]
  },
  {
   "cell_type": "markdown",
   "metadata": {},
   "source": [
    "### Train the Model"
   ]
  },
  {
   "cell_type": "code",
   "execution_count": null,
   "metadata": {},
   "outputs": [],
   "source": [
    "epochs = 20\n",
    "batch_size = 32\n",
    "transfer_model_history = inceptV3_model_class.train_model(model=inceptV3_model,\n",
    "                                           filepath='./saved_models/weights.best.from_inceptV3_transfer.hdf5',\n",
    "                                           train_tensors=train_inceptV3, train_targets=train_targets,\n",
    "                                           valid_tensors=valid_inceptV3, valid_targets=valid_targets,\n",
    "                                           epochs=epochs, batch_size=batch_size)"
   ]
  },
  {
   "cell_type": "markdown",
   "metadata": {},
   "source": [
    "### Load the Model with the Best Validation Loss"
   ]
  },
  {
   "cell_type": "code",
   "execution_count": null,
   "metadata": {},
   "outputs": [],
   "source": [
    "transfer_model_class.load_best_weights(model=inceptV3_model, filepath='./saved_models/weights.best.from_inceptV3_transfer.hdf5')"
   ]
  },
  {
   "cell_type": "code",
   "execution_count": null,
   "metadata": {},
   "outputs": [],
   "source": [
    "# plot the transfer model to a file and store it for further usage\n",
    "plot_model(inceptV3_model, to_file='./saved_models/inceptV3_transfer_model.png')"
   ]
  },
  {
   "cell_type": "markdown",
   "metadata": {},
   "source": [
    "### Transfer Model Testing"
   ]
  },
  {
   "cell_type": "code",
   "execution_count": null,
   "metadata": {},
   "outputs": [],
   "source": [
    "# get index of pneumonia prediction for each image in test set\n",
    "inceptV3_model = inceptV3_model_class.get_model()\n",
    "transfer_chest_pneumonia_predict = [np.argmax(inceptV3_model.predict(np.expand_dims(tensor, axis=0))) for tensor in test_tensors]\n",
    "\n",
    "# report test accuracy\n",
    "transfer_test_acc = 100*np.sum(np.array(transfer_chest_pneumonia_predict)==np.argmax(test_targets, axis=1))/ \\\n",
    "                                                                          len(transfer_chest_pneumonia_predict)\n",
    "print('InceptV3 transfer model test accuracy with Adam optimiser: %.3f%%' % transfer_test_acc)"
   ]
  },
  {
   "cell_type": "markdown",
   "metadata": {},
   "source": [
    "### Metrics of the Model"
   ]
  },
  {
   "cell_type": "code",
   "execution_count": null,
   "metadata": {},
   "outputs": [],
   "source": [
    "_, transfer_train_acc = batch_model.evaluate(train_inceptV3, train_targets, verbose=0)  # train X, train y\n",
    "_, transfer_test_acc = batch_model.evaluate(test_inceptV3, test_targets, verbose=0)     # test X, test y\n",
    "print(\"Accuracy for training and testing of the inceptionV3 transfer model with Adam optimiser:\")\n",
    "print('Train: %.3f, Test: %.3f' % (transfer_train_acc, transfer_test_acc))"
   ]
  },
  {
   "cell_type": "markdown",
   "metadata": {},
   "source": [
    "#### Accuracy during Training\n",
    "\n",
    "Show the history diagram for epochs and associated accuracy results ..."
   ]
  },
  {
   "cell_type": "code",
   "execution_count": null,
   "metadata": {},
   "outputs": [],
   "source": [
    "show_history_accuracy(transfer_model_history)"
   ]
  },
  {
   "cell_type": "markdown",
   "metadata": {},
   "source": [
    "#### Learning during Training"
   ]
  },
  {
   "cell_type": "code",
   "execution_count": null,
   "metadata": {},
   "outputs": [],
   "source": [
    "show_history_loss(transfer_model_history)"
   ]
  },
  {
   "cell_type": "markdown",
   "metadata": {},
   "source": [
    "#### Some other Metrics"
   ]
  },
  {
   "cell_type": "code",
   "execution_count": null,
   "metadata": {},
   "outputs": [],
   "source": [
    "get_other_metrics(test_targets, transfer_model_history)"
   ]
  },
  {
   "cell_type": "code",
   "execution_count": null,
   "metadata": {},
   "outputs": [],
   "source": [
    "# ROC AUC\n",
    "# predict probabilities for test set\n",
    "yhat_probs = inceptV3_model.predict(test_inceptV3, verbose=0)  # arrays of chest normal and pneumonia probabilities\n",
    "#yhat_probs\n",
    "auc = metrics.roc_auc_score(test_targets[:,1], yhat_probs[:,1]) # pneumonia probability values\n",
    "print('ROC AUC Pneumonia class prediction of batch model with Adam optimiser: %.3f' % auc)"
   ]
  },
  {
   "cell_type": "code",
   "execution_count": null,
   "metadata": {},
   "outputs": [],
   "source": [
    "fpr, tpr, threshold = metrics.roc_curve(y_true=test_targets[:,1], y_score=yhat_probs[:,1])\n",
    "# plot ROC Curve using the defined function\n",
    "plot_ROC_AUC(fpr, tpr, \"CNN Model with InceptV3 transfer learning and Adam optimiser\")"
   ]
  },
  {
   "cell_type": "markdown",
   "metadata": {},
   "source": [
    "**Note:**<br>\n",
    "......"
   ]
  },
  {
   "cell_type": "markdown",
   "metadata": {},
   "source": [
    "<a id='step12'></a>\n",
    "## Step 12: Benchmark and Conclusion\n",
    "\n",
    "sflasflsö"
   ]
  }
 ],
 "metadata": {
  "kernelspec": {
   "display_name": "chest-class-project-local",
   "language": "python",
   "name": "chest-class-project-local"
  },
  "language_info": {
   "codemirror_mode": {
    "name": "ipython",
    "version": 3
   },
   "file_extension": ".py",
   "mimetype": "text/x-python",
   "name": "python",
   "nbconvert_exporter": "python",
   "pygments_lexer": "ipython3",
   "version": "3.6.8"
  }
 },
 "nbformat": 4,
 "nbformat_minor": 2
}
